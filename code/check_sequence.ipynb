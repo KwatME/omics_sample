{
 "cells": [
  {
   "cell_type": "code",
   "execution_count": 1,
   "metadata": {},
   "outputs": [
    {
     "data": {
      "text/plain": [
       "Main.Kraft"
      ]
     },
     "execution_count": 1,
     "metadata": {},
     "output_type": "execute_result"
    }
   ],
   "source": [
    "include(\"/home/kwat/github/Kraft.jl/src/Kraft.jl\")"
   ]
  },
  {
   "cell_type": "code",
   "execution_count": 2,
   "metadata": {},
   "outputs": [
    {
     "data": {
      "text/plain": [
       "\"/home/kwat/github/omics_sample/output\""
      ]
     },
     "execution_count": 2,
     "metadata": {},
     "output_type": "execute_result"
    }
   ],
   "source": [
    "project_dir = dirname(dirname(@__DIR__))\n",
    "\n",
    "output_dir = joinpath(project_dir, \"output\")"
   ]
  },
  {
   "cell_type": "code",
   "execution_count": 3,
   "metadata": {},
   "outputs": [],
   "source": [
    "using JSON: parse"
   ]
  },
  {
   "cell_type": "code",
   "execution_count": 4,
   "metadata": {},
   "outputs": [
    {
     "data": {
      "text/plain": [
       "Dict{String,Any} with 15 entries:\n",
       "  \"n_job\"               => 8\n",
       "  \"command\"             => Dict{String,Any}(\"notebook\"=>\"jupyter notebook\",\"ins…\n",
       "  \"germ_dna.2.fastq.gz\" => \"input/sample/germ_dna.2.1k.fastq.gz\"\n",
       "  \"germ_dna.1.fastq.gz\" => \"input/sample/germ_dna.1.1k.fastq.gz\"\n",
       "  \"name\"                => \"\"\n",
       "  \"gb_memory\"           => 32\n",
       "  \"download\"            => Dict{String,Any}(\"input\"=>Any[\"https://s3-us-west-1.…\n",
       "  \"soma_dna.2.fastq.gz\" => \"input/sample/soma_dna.2.1k.fastq.gz\"\n",
       "  \"version\"             => \"0.0.1\"\n",
       "  \"keyword\"             => Any[]\n",
       "  \"soma_dna.1.fastq.gz\" => \"input/sample/soma_dna.1.1k.fastq.gz\"\n",
       "  \"soma_rna.1.fastq.gz\" => \"input/sample/soma_rna.1.1k.fastq.gz\"\n",
       "  \"git_url\"             => \"\"\n",
       "  \"dna_is_targeted\"     => false\n",
       "  \"soma_rna.2.fastq.gz\" => \"input/sample/soma_rna.2.1k.fastq.gz\""
      ]
     },
     "execution_count": 4,
     "metadata": {},
     "output_type": "execute_result"
    }
   ],
   "source": [
    "project_json = parse(read(joinpath(project_dir, \"project.json\"), String))"
   ]
  },
  {
   "cell_type": "code",
   "execution_count": 5,
   "metadata": {},
   "outputs": [
    {
     "name": "stdout",
     "output_type": "stream",
     "text": [
      "(2019-07-15T10:02:37.929) Checking sequence ...\n",
      "`\u001b[4mfastqc\u001b[24m \u001b[4m--threads\u001b[24m \u001b[4m6\u001b[24m \u001b[4m--outdir\u001b[24m \u001b[4m/home/kwat/github/omics_sample/output/check_sequence\u001b[24m \u001b[4m/home/kwat/github/omics_sample/input/sample/germ_dna.2.1k.fastq.gz\u001b[24m \u001b[4m/home/kwat/github/omics_sample/input/sample/germ_dna.1.1k.fastq.gz\u001b[24m \u001b[4m/home/kwat/github/omics_sample/input/sample/soma_dna.2.1k.fastq.gz\u001b[24m \u001b[4m/home/kwat/github/omics_sample/input/sample/soma_dna.1.1k.fastq.gz\u001b[24m \u001b[4m/home/kwat/github/omics_sample/input/sample/soma_rna.1.1k.fastq.gz\u001b[24m \u001b[4m/home/kwat/github/omics_sample/input/sample/soma_rna.2.1k.fastq.gz\u001b[24m`\n",
      "Analysis complete for germ_dna.2.1k.fastq.gz\n"
     ]
    },
    {
     "name": "stderr",
     "output_type": "stream",
     "text": [
      "Started analysis of germ_dna.2.1k.fastq.gz\n",
      "Approx 100% complete for germ_dna.2.1k.fastq.gz\n"
     ]
    },
    {
     "name": "stdout",
     "output_type": "stream",
     "text": [
      "Analysis complete for germ_dna.1.1k.fastq.gz\n"
     ]
    },
    {
     "name": "stderr",
     "output_type": "stream",
     "text": [
      "Started analysis of germ_dna.1.1k.fastq.gz\n",
      "Approx 100% complete for germ_dna.1.1k.fastq.gz\n"
     ]
    },
    {
     "name": "stdout",
     "output_type": "stream",
     "text": [
      "Analysis complete for soma_dna.2.1k.fastq.gz\n"
     ]
    },
    {
     "name": "stderr",
     "output_type": "stream",
     "text": [
      "Started analysis of soma_dna.2.1k.fastq.gz\n",
      "Approx 100% complete for soma_dna.2.1k.fastq.gz\n"
     ]
    },
    {
     "name": "stdout",
     "output_type": "stream",
     "text": [
      "Analysis complete for soma_dna.1.1k.fastq.gz\n"
     ]
    },
    {
     "name": "stderr",
     "output_type": "stream",
     "text": [
      "Started analysis of soma_dna.1.1k.fastq.gz\n",
      "Approx 100% complete for soma_dna.1.1k.fastq.gz\n"
     ]
    },
    {
     "name": "stdout",
     "output_type": "stream",
     "text": [
      "Analysis complete for soma_rna.1.1k.fastq.gz\n"
     ]
    },
    {
     "name": "stderr",
     "output_type": "stream",
     "text": [
      "Started analysis of soma_rna.1.1k.fastq.gz\n",
      "Approx 100% complete for soma_rna.1.1k.fastq.gz\n"
     ]
    },
    {
     "name": "stdout",
     "output_type": "stream",
     "text": [
      "Analysis complete for soma_rna.2.1k.fastq.gz\n"
     ]
    },
    {
     "name": "stderr",
     "output_type": "stream",
     "text": [
      "Started analysis of soma_rna.2.1k.fastq.gz\n",
      "Approx 100% complete for soma_rna.2.1k.fastq.gz\n"
     ]
    },
    {
     "name": "stdout",
     "output_type": "stream",
     "text": [
      "(2019-07-15T10:02:42.389) Done in 4 seconds, 460 milliseconds.\n"
     ]
    }
   ],
   "source": [
    "Kraft.check_sequence(\n",
    "    Tuple(\n",
    "        joinpath(project_dir, value)\n",
    "        for (key, value) in project_json\n",
    "        if endswith(key, \".fastq.gz\")\n",
    "    ),\n",
    "    joinpath(output_dir, \"check_sequence\"),\n",
    "    project_json[\"n_job\"],\n",
    ")"
   ]
  }
 ],
 "metadata": {
  "@webio": {
   "lastCommId": null,
   "lastKernelId": null
  },
  "kernelspec": {
   "display_name": "Julia 1.0.3",
   "language": "julia",
   "name": "julia-1.0"
  },
  "language_info": {
   "file_extension": ".jl",
   "mimetype": "application/julia",
   "name": "julia",
   "version": "1.0.3"
  }
 },
 "nbformat": 4,
 "nbformat_minor": 2
}
