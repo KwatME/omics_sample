{
 "cells": [
  {
   "cell_type": "code",
   "execution_count": 1,
   "metadata": {},
   "outputs": [
    {
     "data": {
      "text/plain": [
       "Main.Kraft"
      ]
     },
     "execution_count": 1,
     "metadata": {},
     "output_type": "execute_result"
    }
   ],
   "source": [
    "include(\"/home/kwat/github/Kraft.jl/src/Kraft.jl\")"
   ]
  },
  {
   "cell_type": "code",
   "execution_count": 3,
   "metadata": {},
   "outputs": [],
   "source": [
    "project_dir = dirname(@__DIR__)"
   ]
  },
  {
   "cell_type": "code",
   "execution_count": 3,
   "metadata": {},
   "outputs": [],
   "source": [
    "output_dir = joinpath(project_dir, \"output\")"
   ]
  },
  {
   "cell_type": "code",
   "execution_count": 4,
   "metadata": {},
   "outputs": [],
   "source": [
    "using JSON: parse"
   ]
  },
  {
   "cell_type": "code",
   "execution_count": 5,
   "metadata": {},
   "outputs": [
    {
     "data": {
      "text/plain": [
       "Dict{String,Any} with 10 entries:\n",
       "  \"soma_dna.1.fastq.gz\" => \"input/sample/soma_dna.1.1k.fastq.gz\"\n",
       "  \"soma_rna.1.fastq.gz\" => \"input/sample/soma_rna.1.1k.fastq.gz\"\n",
       "  \"gb_memory\"           => 48\n",
       "  \"n_job\"               => 8\n",
       "  \"dna_is_targeted\"     => false\n",
       "  \"download\"            => Dict{String,Any}(\"input\"=>Any[\"https://s3-us-west-1.…\n",
       "  \"germ_dna.2.fastq.gz\" => \"input/sample/germ_dna.2.1k.fastq.gz\"\n",
       "  \"soma_dna.2.fastq.gz\" => \"input/sample/soma_dna.2.1k.fastq.gz\"\n",
       "  \"soma_rna.2.fastq.gz\" => \"input/sample/soma_rna.2.1k.fastq.gz\"\n",
       "  \"germ_dna.1.fastq.gz\" => \"input/sample/germ_dna.1.1k.fastq.gz\""
      ]
     },
     "execution_count": 5,
     "metadata": {},
     "output_type": "execute_result"
    }
   ],
   "source": [
    "project_json = parse(read(joinpath(project_dir, \"project.json\"), String))"
   ]
  },
  {
   "cell_type": "code",
   "execution_count": 6,
   "metadata": {},
   "outputs": [
    {
     "name": "stdout",
     "output_type": "stream",
     "text": [
      "(2020-08-27T19:13:33.967) Checking sequence ...\n",
      "`\u001b[4mfastqc\u001b[24m \u001b[4m--threads\u001b[24m \u001b[4m6\u001b[24m \u001b[4m--outdir\u001b[24m \u001b[4m/home/kwat/github/omics_sample/output/check_sequence\u001b[24m \u001b[4m/home/kwat/github/omics_sample/input/sample/soma_dna.1.1k.fastq.gz\u001b[24m \u001b[4m/home/kwat/github/omics_sample/input/sample/soma_rna.1.1k.fastq.gz\u001b[24m \u001b[4m/home/kwat/github/omics_sample/input/sample/germ_dna.2.1k.fastq.gz\u001b[24m \u001b[4m/home/kwat/github/omics_sample/input/sample/soma_dna.2.1k.fastq.gz\u001b[24m \u001b[4m/home/kwat/github/omics_sample/input/sample/soma_rna.2.1k.fastq.gz\u001b[24m \u001b[4m/home/kwat/github/omics_sample/input/sample/germ_dna.1.1k.fastq.gz\u001b[24m`\n"
     ]
    },
    {
     "name": "stderr",
     "output_type": "stream",
     "text": [
      "Started analysis of soma_dna.1.1k.fastq.gz\n"
     ]
    },
    {
     "name": "stdout",
     "output_type": "stream",
     "text": [
      "Analysis complete for soma_dna.1.1k.fastq.gz\n"
     ]
    },
    {
     "name": "stderr",
     "output_type": "stream",
     "text": [
      "Approx 100% complete for soma_dna.1.1k.fastq.gz\n",
      "Started analysis of soma_rna.1.1k.fastq.gz\n"
     ]
    },
    {
     "name": "stdout",
     "output_type": "stream",
     "text": [
      "Analysis complete for soma_rna.1.1k.fastq.gz\n"
     ]
    },
    {
     "name": "stderr",
     "output_type": "stream",
     "text": [
      "Approx 100% complete for soma_rna.1.1k.fastq.gz\n",
      "Started analysis of germ_dna.2.1k.fastq.gz\n"
     ]
    },
    {
     "name": "stdout",
     "output_type": "stream",
     "text": [
      "Analysis complete for germ_dna.2.1k.fastq.gz\n"
     ]
    },
    {
     "name": "stderr",
     "output_type": "stream",
     "text": [
      "Approx 100% complete for germ_dna.2.1k.fastq.gz\n",
      "Started analysis of soma_dna.2.1k.fastq.gz\n"
     ]
    },
    {
     "name": "stdout",
     "output_type": "stream",
     "text": [
      "Analysis complete for soma_dna.2.1k.fastq.gz\n"
     ]
    },
    {
     "name": "stderr",
     "output_type": "stream",
     "text": [
      "Approx 100% complete for soma_dna.2.1k.fastq.gz\n",
      "Started analysis of soma_rna.2.1k.fastq.gz\n"
     ]
    },
    {
     "name": "stdout",
     "output_type": "stream",
     "text": [
      "Analysis complete for soma_rna.2.1k.fastq.gz\n"
     ]
    },
    {
     "name": "stderr",
     "output_type": "stream",
     "text": [
      "Approx 100% complete for soma_rna.2.1k.fastq.gz\n",
      "Started analysis of germ_dna.1.1k.fastq.gz\n"
     ]
    },
    {
     "name": "stdout",
     "output_type": "stream",
     "text": [
      "Analysis complete for germ_dna.1.1k.fastq.gz\n"
     ]
    },
    {
     "name": "stderr",
     "output_type": "stream",
     "text": [
      "Approx 100% complete for germ_dna.1.1k.fastq.gz\n"
     ]
    },
    {
     "name": "stdout",
     "output_type": "stream",
     "text": [
      "(2020-08-27T19:13:38.497) Done in 4 seconds, 530 milliseconds.\n"
     ]
    }
   ],
   "source": [
    "Kraft.check_sequence(\n",
    "    Tuple(joinpath(project_dir, value) for (key, value) in project_json if endswith(key, \".fastq.gz\")),\n",
    "    joinpath(output_dir, \"check_sequence\"),\n",
    "    project_json[\"n_job\"],\n",
    ")"
   ]
  },
  {
   "cell_type": "code",
   "execution_count": null,
   "metadata": {},
   "outputs": [],
   "source": []
  }
 ],
 "metadata": {
  "@webio": {
   "lastCommId": null,
   "lastKernelId": null
  },
  "kernelspec": {
   "display_name": "Julia 1.5.0",
   "language": "julia",
   "name": "julia-1.5"
  },
  "language_info": {
   "file_extension": ".jl",
   "mimetype": "application/julia",
   "name": "julia",
   "version": "1.5.0"
  }
 },
 "nbformat": 4,
 "nbformat_minor": 4
}
