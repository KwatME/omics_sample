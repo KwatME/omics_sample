{
 "cells": [
  {
   "cell_type": "code",
   "execution_count": null,
   "metadata": {},
   "outputs": [],
   "source": [
    "import plotly as pl"
   ]
  },
  {
   "cell_type": "code",
   "execution_count": null,
   "metadata": {},
   "outputs": [],
   "source": [
    "pl.offline.init_notebook_mode(connected=True)"
   ]
  },
  {
   "cell_type": "code",
   "execution_count": null,
   "metadata": {},
   "outputs": [],
   "source": [
    "import numpy as np\n",
    "import pandas as pd"
   ]
  },
  {
   "cell_type": "code",
   "execution_count": null,
   "metadata": {},
   "outputs": [],
   "source": [
    "sample_directory_path = \"prostate_cancer_patients/\""
   ]
  },
  {
   "cell_type": "code",
   "execution_count": null,
   "metadata": {},
   "outputs": [],
   "source": [
    "import os"
   ]
  },
  {
   "cell_type": "code",
   "execution_count": null,
   "metadata": {},
   "outputs": [],
   "source": [
    "columns = []\n",
    "\n",
    "for sample in os.listdir(sample_directory_path):\n",
    "\n",
    "    print(sample)\n",
    "\n",
    "    summary_file_path = os.path.join(\n",
    "        sample_directory_path, sample, \"summary\", \"variant_n.tsv\"\n",
    "    )\n",
    "\n",
    "    if os.path.isfile(summary_file_path):\n",
    "\n",
    "        series = pd.read_csv(summary_file_path, sep=\"\\t\", squeeze=True)\n",
    "\n",
    "        series = pd.Series(1, index=s, name=sample)\n",
    "\n",
    "        columns.append(s)\n",
    "\n",
    "variant__feature_x_sample = pd.concat(columns, axis=1, sort=True).fillna(0).astype(int)\n",
    "\n",
    "variant__feature_x_sample.to_csv(\"variant.feature_x_sample.tsv\", sep=\"\\t\")\n",
    "\n",
    "variant__feature_x_sample"
   ]
  },
  {
   "cell_type": "code",
   "execution_count": null,
   "metadata": {},
   "outputs": [],
   "source": [
    "variant_n_sample = variant__feature_x_sample.sum(axis=1).sort_values(ascending=False)\n",
    "\n",
    "variant_n_sample.name = \"Number of Sample\"\n",
    "\n",
    "variant_n_sample.index.name = \"Gene (effect)\"\n",
    "\n",
    "variant_n_sample.to_csv(\"variant_n_sample.tsv\", sep=\"\\t\", header=True)\n",
    "\n",
    "pl.offline.iplot(\n",
    "    {\n",
    "        layout={\n",
    "            \"title\":\"Distribution of the Number of Sample per Variant ({} variants)\".format(\n",
    "                variant_n_sample.size\n",
    "            ),\n",
    "            \"xaxis\":{\"title\":\"Number of Sample\", \"automargin\":True},\n",
    "        },\n",
    "        data=[{\"type\":\"histogram\", \"x\":variant_n_sample}],\n",
    "    }\n",
    ")\n",
    "\n",
    "variant_n_sample"
   ]
  },
  {
   "cell_type": "code",
   "execution_count": null,
   "metadata": {},
   "outputs": [],
   "source": [
    "columns = []\n",
    "\n",
    "for sample in os.listdir(sample_directory_path):\n",
    "\n",
    "    print(sample)\n",
    "\n",
    "    summary_file_path = os.path.join(\n",
    "        sample_directory_path, sample, \"summary\", \"gene_tpm.tsv\"\n",
    "    )\n",
    "\n",
    "    if os.path.isfile(summary_file_path):\n",
    "\n",
    "        s = pd.read_csv(summary_file_path, sep=\"\\t\", index_col=0, squeeze=True)\n",
    "\n",
    "        s.name = sample\n",
    "\n",
    "        s = s.groupby(s.index).median()\n",
    "\n",
    "        columns.append(s)\n",
    "\n",
    "tpm__gene_x_sample = pd.concat(columns, axis=1, sort=True)\n",
    "\n",
    "tpm__gene_x_sample.to_csv(\"tpm.gene_x_sample.tsv\", sep=\"\\t\")\n",
    "\n",
    "tpm__gene_x_sample"
   ]
  },
  {
   "cell_type": "code",
   "execution_count": null,
   "metadata": {},
   "outputs": [],
   "source": [
    "gene_median_tpm = tpm__gene_x_sample.median(axis=1).sort_values(ascending=False)\n",
    "\n",
    "gene_median_tpm.name = \"Median TPM\"\n",
    "\n",
    "gene_median_tpm.index.name = \"Gene\"\n",
    "\n",
    "gene_median_tpm.to_csv(\"gene_median_tpm.tsv\", sep=\"\\t\", header=True)\n",
    "\n",
    "pl.offline.iplot(\n",
    "    {\n",
    "        \"layout\":{\n",
    "            title=\"Distribution of the Median TPM per Gene ({} genes)\".format(\n",
    "                gene_median_tpm.size\n",
    "            ),\n",
    "            xaxis={\"title\":\"log(Median TPM)\", \"automargin\":True},\n",
    "        },\n",
    "        \"data\":[{\"type\":\"histogram\", \"x\":np.log(gene_median_tpm)}],\n",
    "    }\n",
    ")\n",
    "\n",
    "gene_median_tpm"
   ]
  },
  {
   "cell_type": "code",
   "execution_count": null,
   "metadata": {},
   "outputs": [],
   "source": [
    "columns = []\n",
    "\n",
    "for sample in os.listdir(sample_directory_path):\n",
    "\n",
    "    print(sample)\n",
    "\n",
    "    summary_file_path = os.path.join(\n",
    "        sample_directory_path, sample, \"summary\", \"virus_tpm.tsv\"\n",
    "    )\n",
    "\n",
    "    if os.path.isfile(summary_file_path):\n",
    "\n",
    "        s = pd.read_csv(summary_file_path, sep=\"\\t\", index_col=0, squeeze=True)\n",
    "\n",
    "        s.name = sample\n",
    "\n",
    "        s = s.groupby(s.index).median()\n",
    "\n",
    "        columns.append(s)\n",
    "\n",
    "tpm__virus_x_sample = pd.concat(columns, axis=1, sort=True)\n",
    "\n",
    "tpm__virus_x_sample.to_csv(\"tpm.virus_x_sample.tsv\", sep=\"\\t\")\n",
    "\n",
    "tpm__virus_x_sample"
   ]
  },
  {
   "cell_type": "code",
   "execution_count": null,
   "metadata": {},
   "outputs": [],
   "source": [
    "virus_median_tpm = tpm__virus_x_sample.median(axis=1).sort_values(ascending=False)\n",
    "\n",
    "virus_median_tpm.name = \"Median TPM\"\n",
    "\n",
    "virus_median_tpm.index.name = \"virus\"\n",
    "\n",
    "virus_median_tpm.to_csv(\"virus_tpm_median.tsv\", sep=\"\\t\", header=True)\n",
    "\n",
    "pl.offline.iplot(\n",
    "    {\n",
    "        layout={\n",
    "            \"title\":\"Distribution of the Median TPM per Virus ({} viruses)\".format(\n",
    "                virus_median_tpm.size\n",
    "            )\n",
    "            \"xaxis\":{\"title\":\"log(Median TPM)\", \"automargin\":True},\n",
    "        },\n",
    "        data=[{\"type\":\"histogram\", \"x\":np.log(virus_median_tpm)}],\n",
    "    }\n",
    ")\n",
    "\n",
    "virus_median_tpm"
   ]
  },
  {
   "cell_type": "code",
   "execution_count": null,
   "metadata": {},
   "outputs": [],
   "source": [
    "for index, row in variant__feature_x_sample.iterrows():\n",
    "\n",
    "    if \"tmprss\" in index.lower():\n",
    "\n",
    "        print(index)"
   ]
  }
 ],
 "metadata": {
  "kernelspec": {
   "display_name": "Python 3",
   "language": "python",
   "name": "python3"
  },
  "language_info": {
   "codemirror_mode": {
    "name": "ipython",
    "version": 3
   },
   "file_extension": ".py",
   "mimetype": "text/x-python",
   "name": "python",
   "nbconvert_exporter": "python",
   "pygments_lexer": "ipython3",
   "version": "3.7.3"
  }
 },
 "nbformat": 4,
 "nbformat_minor": 2
}
