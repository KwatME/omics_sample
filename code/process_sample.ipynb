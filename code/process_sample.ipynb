{
 "cells": [
  {
   "cell_type": "code",
   "execution_count": null,
   "metadata": {},
   "outputs": [],
   "source": [
    "include(\"/home/kwat/github/Kraft.jl/src/Kraft.jl\")"
   ]
  },
  {
   "cell_type": "code",
   "execution_count": null,
   "metadata": {},
   "outputs": [],
   "source": [
    "project_dir = dirname(dirname(@__DIR__))\n",
    "\n",
    "input_dir = joinpath(project_dir, \"input\")\n",
    "\n",
    "output_dir = joinpath(project_dir, \"output\")"
   ]
  },
  {
   "cell_type": "code",
   "execution_count": null,
   "metadata": {},
   "outputs": [],
   "source": [
    "Kraft.check_program()\n",
    "\n",
    "data_for_processing_sequence_dir = joinpath(input_dir, \"data_for_processing_sequence\")\n",
    "\n",
    "if !isdir(data_for_processing_sequence_dir)\n",
    "\n",
    "    Kraft.print_and_run_cmd(`unzip -o -d $input_dir $data_for_processing_sequence_dir.zip`)\n",
    "    \n",
    "end"
   ]
  },
  {
   "cell_type": "code",
   "execution_count": null,
   "metadata": {},
   "outputs": [],
   "source": [
    "using JSON: parse"
   ]
  },
  {
   "cell_type": "code",
   "execution_count": null,
   "metadata": {},
   "outputs": [],
   "source": [
    "project_json = parse(read(joinpath(project_dir, \"project.json\"), String))"
   ]
  },
  {
   "cell_type": "code",
   "execution_count": null,
   "metadata": {},
   "outputs": [],
   "source": [
    "process_dna_arguments = (\n",
    "    joinpath(data_for_processing_sequence_dir, \"GCA_000001405.15_GRCh38_no_alt_analysis_set.fna.gz\"),\n",
    "    joinpath(data_for_processing_sequence_dir, \"chromosome.bed.gz\"),\n",
    "    joinpath(data_for_processing_sequence_dir, \"chrn_n.tsv\"),\n",
    "    project_json[\"n_job\"],\n",
    "    project_json[\"gb_memory\"],\n",
    "    2,\n",
    ")"
   ]
  },
  {
   "cell_type": "code",
   "execution_count": null,
   "metadata": {
    "scrolled": false
   },
   "outputs": [],
   "source": [
    "if all((in(key, keys(project_json)) for key in (\n",
    "    \"germ_dna.1.fastq.gz\",\n",
    "    \"germ_dna.2.fastq.gz\",\n",
    ")))\n",
    "    \n",
    "    Kraft.process_germ_dna(\n",
    "        joinpath(project_dir, project_json[\"germ_dna.1.fastq.gz\"]),\n",
    "        joinpath(project_dir, project_json[\"germ_dna.2.fastq.gz\"]),\n",
    "        project_json[\"dna_is_targeted\"],\n",
    "        joinpath(output_dir, \"process_germ_dna\"),\n",
    "        process_dna_arguments...,\n",
    "    )\n",
    "    \n",
    "end"
   ]
  },
  {
   "cell_type": "code",
   "execution_count": null,
   "metadata": {
    "scrolled": false
   },
   "outputs": [],
   "source": [
    "if all((in(key, keys(project_json)) for key in (\n",
    "    \"germ_dna.1.fastq.gz\",\n",
    "    \"germ_dna.2.fastq.gz\",\n",
    "    \"soma_dna.1.fastq.gz\",\n",
    "    \"soma_dna.2.fastq.gz\",\n",
    ")))\n",
    "    \n",
    "    Kraft.process_soma_dna(\n",
    "        joinpath(project_dir, project_json[\"germ_dna.1.fastq.gz\"]),\n",
    "        joinpath(project_dir, project_json[\"germ_dna.2.fastq.gz\"]),\n",
    "        joinpath(project_dir, project_json[\"soma_dna.1.fastq.gz\"]),\n",
    "        joinpath(project_dir, project_json[\"soma_dna.2.fastq.gz\"]),\n",
    "        project_json[\"dna_is_targeted\"],\n",
    "        joinpath(output_dir, \"process_soma_dna\"),\n",
    "        process_dna_arguments...,\n",
    "    )\n",
    "    \n",
    "end"
   ]
  },
  {
   "cell_type": "code",
   "execution_count": null,
   "metadata": {
    "scrolled": false
   },
   "outputs": [],
   "source": [
    "if all((in(key, keys(project_json)) for key in (\n",
    "    \"soma_rna.1.fastq.gz\",\n",
    "    \"soma_rna.2.fastq.gz\",\n",
    ")))\n",
    "    \n",
    "    Kraft.process_soma_rna(\n",
    "        joinpath(project_dir, project_json[\"soma_rna.1.fastq.gz\"]),\n",
    "        joinpath(project_dir, project_json[\"soma_rna.2.fastq.gz\"]),\n",
    "        joinpath(output_dir, \"process_soma_rna\"),\n",
    "        joinpath(data_for_processing_sequence_dir, \"Homo_sapiens.GRCh38.cdna.all.fa.gz\"),\n",
    "        project_json[\"n_job\"],\n",
    "    )\n",
    "    \n",
    "end"
   ]
  }
 ],
 "metadata": {
  "@webio": {
   "lastCommId": null,
   "lastKernelId": null
  },
  "kernelspec": {
   "display_name": "Julia 1.0.3",
   "language": "julia",
   "name": "julia-1.0"
  },
  "language_info": {
   "file_extension": ".jl",
   "mimetype": "application/julia",
   "name": "julia",
   "version": "1.0.3"
  }
 },
 "nbformat": 4,
 "nbformat_minor": 2
}
