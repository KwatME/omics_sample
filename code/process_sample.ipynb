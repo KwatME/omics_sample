{
 "cells": [
  {
   "cell_type": "code",
   "execution_count": null,
   "metadata": {},
   "outputs": [],
   "source": [
    "from global_variables import *"
   ]
  },
  {
   "cell_type": "code",
   "execution_count": null,
   "metadata": {},
   "outputs": [],
   "source": [
    "from kraft import make_variant_n_from_vcf_file_path, run_command"
   ]
  },
  {
   "cell_type": "code",
   "execution_count": null,
   "metadata": {},
   "outputs": [],
   "source": [
    "if \"germ_dna.1\" in PROJECT_JSON and \"germ_dna.2\" in PROJECT_JSON:\n",
    "\n",
    "    print(\"Processing germ DNA ...\")\n",
    "\n",
    "    run_command(\n",
    "        \"{}/process_germ_dna.sh {} {} {} {} {} exome {}\".format(\n",
    "            CODE_DIRECTORY_PATH,\n",
    "            DATA_DIRECTORY_PATH,\n",
    "            PROJECT_JSON[\"n_job\"],\n",
    "            PROJECT_JSON[\"gb_memory\"],\n",
    "            PROJECT_JSON[\"germ_dna.1\"],\n",
    "            PROJECT_JSON[\"germ_dna.2\"],\n",
    "            OUTPUT_GERM_DNA_DIRECTORY_PATH,\n",
    "        )\n",
    "    )"
   ]
  },
  {
   "cell_type": "code",
   "execution_count": null,
   "metadata": {},
   "outputs": [],
   "source": [
    "if \"soma_dna.1\" in PROJECT_JSON and \"soma_dna.2\" in PROJECT_JSON:\n",
    "\n",
    "    print(\"Processing soma DNA ...\")\n",
    "\n",
    "    run_command(\n",
    "        \"{}/process_soma_dna.sh {} {} {} {} {} {} {} exome {}\".format(\n",
    "            CODE_DIRECTORY_PATH,\n",
    "            DATA_DIRECTORY_PATH,\n",
    "            PROJECT_JSON[\"n_job\"],\n",
    "            PROJECT_JSON[\"gb_memory\"],\n",
    "            PROJECT_JSON[\"germ_dna.1\"],\n",
    "            PROJECT_JSON[\"germ_dna.2\"],\n",
    "            PROJECT_JSON[\"soma_dna.1\"],\n",
    "            PROJECT_JSON[\"soma_dna.2\"],\n",
    "            OUTPUT_SOMA_DNA_DIRECTORY_PATH,\n",
    "        )\n",
    "    )"
   ]
  },
  {
   "cell_type": "code",
   "execution_count": null,
   "metadata": {},
   "outputs": [],
   "source": [
    "if \"soma_rna.1\" in PROJECT_JSON and \"soma_rna.2\" in PROJECT_JSON:\n",
    "\n",
    "    print(\"Processing soma RNA ...\")\n",
    "\n",
    "    run_command(\n",
    "        \"{}/process_soma_rna.sh {} {} {} {} {} {}\".format(\n",
    "            CODE_DIRECTORY_PATH,\n",
    "            DATA_DIRECTORY_PATH,\n",
    "            PROJECT_JSON[\"n_job\"],\n",
    "            PROJECT_JSON[\"gb_memory\"],\n",
    "            PROJECT_JSON[\"soma_rna.1\"],\n",
    "            PROJECT_JSON[\"soma_rna.2\"],\n",
    "            OUTPUT_SOMA_RNA_DIRECTORY_PATH,\n",
    "        )\n",
    "    )"
   ]
  },
  {
   "cell_type": "code",
   "execution_count": null,
   "metadata": {},
   "outputs": [],
   "source": [
    "from os import mkdir\n",
    "from os.path import isdir, join\n",
    "from shutil import rmtree"
   ]
  },
  {
   "cell_type": "code",
   "execution_count": null,
   "metadata": {},
   "outputs": [],
   "source": [
    "if isdir(SUMMARY_DIRECTORY_PATH):\n",
    "\n",
    "    rmtree(SUMMARY_DIRECTORY_PATH)\n",
    "\n",
    "mkdir(SUMMARY_DIRECTORY_PATH)"
   ]
  },
  {
   "cell_type": "code",
   "execution_count": null,
   "metadata": {},
   "outputs": [],
   "source": [
    "if isdir(OUTPUT_GERM_DNA_DIRECTORY_PATH):\n",
    "\n",
    "    germ_variant_n = make_variant_n_from_vcf_file_path(\n",
    "        join(OUTPUT_GERM_DNA_DIRECTORY_PATH, \"snpeff\", \"variant.vcf.gz\")\n",
    "    )\n",
    "\n",
    "    germ_variant_n.to_csv(\n",
    "        join(SUMMARY_DIRECTORY_PATH, \"germ_dna.variant_n.tsv\"), sep=\"\\t\", header=True\n",
    "    )\n",
    "\n",
    "    print(germ_variant_n)"
   ]
  },
  {
   "cell_type": "code",
   "execution_count": null,
   "metadata": {},
   "outputs": [],
   "source": [
    "if isdir(OUTPUT_SOMA_DNA_DIRECTORY_PATH):\n",
    "\n",
    "    soma_variant_n = make_variant_n_from_vcf_file_path(\n",
    "        join(OUTPUT_SOMA_DNA_DIRECTORY_PATH, \"snpeff\", \"variant.vcf.gz\")\n",
    "    )\n",
    "\n",
    "    soma_variant_n.to_csv(\n",
    "        join(SUMMARY_DIRECTORY_PATH, \"soma_dna.variant_n.tsv\"), sep=\"\\t\", header=True\n",
    "    )\n",
    "\n",
    "    print(soma_variant_n)"
   ]
  },
  {
   "cell_type": "code",
   "execution_count": null,
   "metadata": {},
   "outputs": [],
   "source": [
    "from pandas import Series, read_csv"
   ]
  },
  {
   "cell_type": "code",
   "execution_count": null,
   "metadata": {},
   "outputs": [],
   "source": [
    "if isdir(OUTPUT_SOMA_RNA_DIRECTORY_PATH):\n",
    "\n",
    "    enst_tpm = read_csv(\n",
    "        join(\n",
    "            OUTPUT_SOMA_RNA_DIRECTORY_PATH, \"kallisto\", \"transcriptome\", \"abundance.tsv\"\n",
    "        ),\n",
    "        sep=\"\\t\",\n",
    "        index_col=0,\n",
    "    )[\"tpm\"].sort_values(ascending=False)\n",
    "\n",
    "    enst_tpm.index.name = \"ENST\"\n",
    "\n",
    "    enst_tpm.name = \"TPM\"\n",
    "\n",
    "    enst_tpm.to_csv(join(SUMMARY_DIRECTORY_PATH, \"enst_tpm.tsv\"), sep=\"\\t\", header=True)\n",
    "\n",
    "    print(enst_tpm)\n",
    "\n",
    "    enst_gene_name = read_csv(\n",
    "        join(DATA_DIRECTORY_PATH, \"grch\", \"enst_gene_name.tsv\"), sep=\"\\t\"\n",
    "    )\n",
    "\n",
    "    enst_gene_name = dict(\n",
    "        zip(enst_gene_name[\"Transcript stable ID version\"], enst_gene_name[\"Gene name\"])\n",
    "    )\n",
    "\n",
    "    gene_tpm = Series(\n",
    "        enst_tpm.values,\n",
    "        index=enst_tpm.index.map(lambda enst: enst_gene_name.get(enst, enst)),\n",
    "    )\n",
    "\n",
    "    size_before = gene_tpm.size\n",
    "\n",
    "    gene_tpm = gene_tpm.groupby(by=gene_tpm.index).median().sort_values(ascending=False)\n",
    "\n",
    "    print(\"Size: {} =(groupby)=> {}\".format(size_before, gene_tpm.size))\n",
    "\n",
    "    gene_tpm.index.name = \"Gene\"\n",
    "\n",
    "    gene_tpm.name = \"Median TPM\"\n",
    "\n",
    "    gene_tpm.to_csv(join(SUMMARY_DIRECTORY_PATH, \"gene_tpm.tsv\"), sep=\"\\t\", header=True)\n",
    "\n",
    "    print(gene_tpm)\n",
    "\n",
    "    virus_id_tpm = read_csv(\n",
    "        join(OUTPUT_SOMA_RNA_DIRECTORY_PATH, \"kallisto\", \"virus\", \"abundance.tsv\"),\n",
    "        sep=\"\\t\",\n",
    "        index_col=0,\n",
    "    )[\"tpm\"].sort_values(ascending=False)\n",
    "\n",
    "    virus_id_tpm.index.name = \"Virus ID\"\n",
    "\n",
    "    virus_id_tpm.name = \"TPM\"\n",
    "\n",
    "    virus_id_tpm.to_csv(\n",
    "        join(SUMMARY_DIRECTORY_PATH, \"virus_id_tpm.tsv\"), sep=\"\\t\", header=True\n",
    "    )\n",
    "\n",
    "    print(virus_id_tpm)\n",
    "\n",
    "    virus_id_name = read_csv(\n",
    "        join(DATA_DIRECTORY_PATH, \"virus\", \"sequences.csv\"), index_col=0\n",
    "    )[\"Species\"].to_dict()\n",
    "\n",
    "    virus_name_tpm = Series(\n",
    "        virus_id_tpm.values,\n",
    "        index=virus_id_tpm.index.map(\n",
    "            lambda virus_id: virus_id_name.get(virus_id, virus_id)\n",
    "        ),\n",
    "    )\n",
    "\n",
    "    size_before = virus_name_tpm.size\n",
    "\n",
    "    virus_name_tpm = (\n",
    "        virus_name_tpm.groupby(by=virus_name_tpm.index)\n",
    "        .max()\n",
    "        .sort_values(ascending=False)\n",
    "    )\n",
    "\n",
    "    print(\"Size: {} =(groupby)=> {}\".format(size_before, virus_name_tpm.size))\n",
    "\n",
    "    virus_name_tpm.index.name = \"Virus Name\"\n",
    "\n",
    "    virus_name_tpm.name = \"Max TPM\"\n",
    "\n",
    "    virus_name_tpm.to_csv(\n",
    "        join(SUMMARY_DIRECTORY_PATH, \"virus_name_tpm.tsv\"), sep=\"\\t\", header=True\n",
    "    )\n",
    "\n",
    "    print(virus_name_tpm)"
   ]
  }
 ],
 "metadata": {
  "@webio": {
   "lastCommId": null,
   "lastKernelId": null
  },
  "kernelspec": {
   "display_name": "Python 3",
   "language": "python",
   "name": "python3"
  },
  "language_info": {
   "codemirror_mode": {
    "name": "ipython",
    "version": 3
   },
   "file_extension": ".py",
   "mimetype": "text/x-python",
   "name": "python",
   "nbconvert_exporter": "python",
   "pygments_lexer": "ipython3",
   "version": "3.7.3"
  }
 },
 "nbformat": 4,
 "nbformat_minor": 2
}
