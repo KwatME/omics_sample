{
 "cells": [
  {
   "cell_type": "code",
   "execution_count": null,
   "metadata": {},
   "outputs": [],
   "source": [
    "include(\"/home/kwat/github/Kraft.jl/src/Kraft.jl\")"
   ]
  },
  {
   "cell_type": "code",
   "execution_count": null,
   "metadata": {},
   "outputs": [],
   "source": [
    "project_dir = dirname(dirname(@__DIR__))\n",
    "\n",
    "input_dir = joinpath(\n",
    "    project_dir,\n",
    "    \"input\",\n",
    ")\n",
    "\n",
    "output_dir = joinpath(\n",
    "    project_dir,\n",
    "    \"output\",\n",
    ")"
   ]
  },
  {
   "cell_type": "code",
   "execution_count": null,
   "metadata": {},
   "outputs": [],
   "source": [
    "Kraft.check_program()\n",
    "\n",
    "Kraft.check_data_for_processing_sequence(\n",
    "    joinpath(\n",
    "        input_dir,\n",
    "        \"data_for_processing_sequence\",\n",
    "    ),\n",
    "    1,\n",
    ")"
   ]
  },
  {
   "cell_type": "code",
   "execution_count": null,
   "metadata": {},
   "outputs": [],
   "source": [
    "using JSON: parse"
   ]
  },
  {
   "cell_type": "code",
   "execution_count": null,
   "metadata": {},
   "outputs": [],
   "source": [
    "project_json = parse(read(\n",
    "    joinpath(\n",
    "        project_dir,\n",
    "        \"project.json\",\n",
    "    ),\n",
    "    String,\n",
    "))"
   ]
  },
  {
   "cell_type": "code",
   "execution_count": null,
   "metadata": {},
   "outputs": [],
   "source": [
    "process_dna_arguments = (\n",
    "    joinpath(\n",
    "        input_dir,\n",
    "        \"data_for_processing_sequence/GCA_000001405.15_GRCh38_no_alt_analysis_set.fna.gz\",\n",
    "    ),\n",
    "    joinpath(\n",
    "        input_dir,\n",
    "        \"data_for_processing_sequence/chromosome.bed.gz\",\n",
    "    ),\n",
    "    joinpath(\n",
    "        input_dir,\n",
    "        \"data_for_processing_sequence/chrn_n.tsv\",\n",
    "    ),\n",
    "    project_json[\"n_job\"],\n",
    "    project_json[\"gb_memory\"],\n",
    "    1,\n",
    ")"
   ]
  },
  {
   "cell_type": "code",
   "execution_count": null,
   "metadata": {
    "scrolled": false
   },
   "outputs": [],
   "source": [
    "if all((in(\n",
    "    key,\n",
    "    keys(project_json),\n",
    ") for key in (\n",
    "    \"germ_dna.1.fastq.gz\",\n",
    "    \"germ_dna.2.fastq.gz\",\n",
    ")))\n",
    "    \n",
    "    Kraft.process_germ_dna(\n",
    "        joinpath(\n",
    "            project_dir,\n",
    "            project_json[\"germ_dna.1.fastq.gz\"],\n",
    "        ),\n",
    "        joinpath(\n",
    "            project_dir,\n",
    "            project_json[\"germ_dna.2.fastq.gz\"],\n",
    "        ),\n",
    "        project_json[\"dna_is_targeted\"],\n",
    "        joinpath(\n",
    "            output_dir,\n",
    "            \"process_germ_dna\",\n",
    "        ),\n",
    "        process_dna_arguments...,\n",
    "    )\n",
    "    \n",
    "end"
   ]
  },
  {
   "cell_type": "code",
   "execution_count": null,
   "metadata": {
    "scrolled": false
   },
   "outputs": [],
   "source": [
    "if all((in(\n",
    "    key,\n",
    "    keys(project_json),\n",
    ") for key in (\n",
    "    \"germ_dna.1.fastq.gz\",\n",
    "    \"germ_dna.2.fastq.gz\",\n",
    "    \"soma_dna.1.fastq.gz\",\n",
    "    \"soma_dna.2.fastq.gz\",\n",
    ")))\n",
    "    \n",
    "    Kraft.process_soma_dna(\n",
    "        joinpath(\n",
    "            project_dir,\n",
    "            project_json[\"germ_dna.1.fastq.gz\"],\n",
    "        ),\n",
    "        joinpath(\n",
    "            project_dir,\n",
    "            project_json[\"germ_dna.2.fastq.gz\"],\n",
    "        ),\n",
    "        joinpath(\n",
    "            project_dir,\n",
    "            project_json[\"soma_dna.1.fastq.gz\"],\n",
    "        ),\n",
    "        joinpath(\n",
    "            project_dir,\n",
    "            project_json[\"soma_dna.2.fastq.gz\"],\n",
    "        ),\n",
    "        project_json[\"dna_is_targeted\"],\n",
    "        joinpath(\n",
    "            output_dir,\n",
    "            \"process_soma_dna\",\n",
    "        ),\n",
    "        process_dna_arguments...,\n",
    "    )\n",
    "    \n",
    "end"
   ]
  },
  {
   "cell_type": "code",
   "execution_count": null,
   "metadata": {
    "scrolled": false
   },
   "outputs": [],
   "source": [
    "if all((in(\n",
    "    key,\n",
    "    keys(project_json),\n",
    ") for key in (\n",
    "    \"soma_rna.1.fastq.gz\",\n",
    "    \"soma_rna.2.fastq.gz\",\n",
    ")))\n",
    "    \n",
    "    Kraft.process_soma_rna(\n",
    "        joinpath(\n",
    "            project_dir,\n",
    "            project_json[\"soma_rna.1.fastq.gz\"],\n",
    "        ),\n",
    "        joinpath(\n",
    "            project_dir,\n",
    "            project_json[\"soma_rna.2.fastq.gz\"],\n",
    "        ),\n",
    "        joinpath(\n",
    "            output_dir,\n",
    "            \"process_soma_rna\",\n",
    "        ),\n",
    "        joinpath(\n",
    "            input_dir,\n",
    "            \"data_for_processing_sequence/Homo_sapiens.GRCh38.cdna.all.fa.gz\",\n",
    "        ),\n",
    "        project_json[\"n_job\"],\n",
    "    )\n",
    "    \n",
    "end"
   ]
  }
 ],
 "metadata": {
  "@webio": {
   "lastCommId": null,
   "lastKernelId": null
  },
  "kernelspec": {
   "display_name": "Julia 1.0.3",
   "language": "julia",
   "name": "julia-1.0"
  },
  "language_info": {
   "file_extension": ".jl",
   "mimetype": "application/julia",
   "name": "julia",
   "version": "1.0.3"
  }
 },
 "nbformat": 4,
 "nbformat_minor": 2
}
