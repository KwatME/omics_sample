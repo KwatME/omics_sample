{
 "cells": [
  {
   "cell_type": "code",
   "execution_count": 1,
   "metadata": {},
   "outputs": [
    {
     "data": {
      "text/plain": [
       "Main.Kraft"
      ]
     },
     "execution_count": 1,
     "metadata": {},
     "output_type": "execute_result"
    }
   ],
   "source": [
    "include(\"/home/kwat/github/Kraft.jl/src/Kraft.jl\")"
   ]
  },
  {
   "cell_type": "code",
   "execution_count": 2,
   "metadata": {},
   "outputs": [
    {
     "data": {
      "text/plain": [
       "\"/home/kwat/github/omics_sample\""
      ]
     },
     "execution_count": 2,
     "metadata": {},
     "output_type": "execute_result"
    }
   ],
   "source": [
    "project_dir = dirname(@__DIR__)"
   ]
  },
  {
   "cell_type": "code",
   "execution_count": 3,
   "metadata": {},
   "outputs": [
    {
     "data": {
      "text/plain": [
       "\"/home/kwat/github/omics_sample/input\""
      ]
     },
     "execution_count": 3,
     "metadata": {},
     "output_type": "execute_result"
    }
   ],
   "source": [
    "input_dir = joinpath(project_dir, \"input\")"
   ]
  },
  {
   "cell_type": "code",
   "execution_count": 4,
   "metadata": {},
   "outputs": [
    {
     "data": {
      "text/plain": [
       "\"/home/kwat/github/omics_sample/output\""
      ]
     },
     "execution_count": 4,
     "metadata": {},
     "output_type": "execute_result"
    }
   ],
   "source": [
    "output_dir = joinpath(project_dir, \"output\")"
   ]
  },
  {
   "cell_type": "code",
   "execution_count": 5,
   "metadata": {},
   "outputs": [
    {
     "name": "stdout",
     "output_type": "stream",
     "text": [
      "Checking program...\n",
      "`\u001b[4mwhich\u001b[24m \u001b[4mskewer\u001b[24m`\n",
      "/home/kwat/miniconda3/bin/skewer\n",
      "`\u001b[4mwhich\u001b[24m \u001b[4mfastqc\u001b[24m`\n",
      "/home/kwat/miniconda3/bin/fastqc\n",
      "`\u001b[4mwhich\u001b[24m \u001b[4mbgzip\u001b[24m`\n",
      "/home/kwat/miniconda3/bin/bgzip\n",
      "`\u001b[4mwhich\u001b[24m \u001b[4mtabix\u001b[24m`\n",
      "/home/kwat/miniconda3/bin/tabix\n",
      "`\u001b[4mwhich\u001b[24m \u001b[4mminimap2\u001b[24m`\n",
      "/home/kwat/miniconda3/bin/minimap2\n",
      "`\u001b[4mwhich\u001b[24m \u001b[4msamtools\u001b[24m`\n",
      "/home/kwat/miniconda3/bin/samtools\n",
      "`\u001b[4mwhich\u001b[24m \u001b[4mbcftools\u001b[24m`\n",
      "/home/kwat/miniconda3/bin/bcftools\n",
      "`\u001b[4mwhich\u001b[24m \u001b[4mkallisto\u001b[24m`\n",
      "/home/kwat/miniconda3/bin/kallisto\n",
      "`\u001b[4mbash\u001b[24m \u001b[4m-c\u001b[24m \u001b[4m'source activate py2 && which configManta.py'\u001b[24m`\n",
      "/home/kwat/miniconda3/envs/py2/bin/configManta.py\n",
      "`\u001b[4mbash\u001b[24m \u001b[4m-c\u001b[24m \u001b[4m'source activate py2 && which configureStrelkaGermlineWorkflow.py'\u001b[24m`\n",
      "/home/kwat/miniconda3/envs/py2/bin/configureStrelkaGermlineWorkflow.py\n",
      "`\u001b[4mbash\u001b[24m \u001b[4m-c\u001b[24m \u001b[4m'source activate py2 && which configureStrelkaSomaticWorkflow.py'\u001b[24m`\n",
      "/home/kwat/miniconda3/envs/py2/bin/configureStrelkaSomaticWorkflow.py\n"
     ]
    }
   ],
   "source": [
    "Kraft.check_program()\n",
    "\n",
    "data_for_processing_sequence_dir = joinpath(input_dir, \"data_for_processing_sequence\")\n",
    "\n",
    "if !isdir(data_for_processing_sequence_dir)\n",
    "\n",
    "    Kraft.print_and_run_cmd(`unzip -o -d $input_dir $data_for_processing_sequence_dir.zip`)\n",
    "    \n",
    "end"
   ]
  },
  {
   "cell_type": "code",
   "execution_count": 6,
   "metadata": {},
   "outputs": [
    {
     "data": {
      "text/plain": [
       "\"/home/kwat/github/omics_sample/input/snpEff/snpEff.jar\""
      ]
     },
     "execution_count": 6,
     "metadata": {},
     "output_type": "execute_result"
    }
   ],
   "source": [
    "snpeff = joinpath(\n",
    "    input_dir,\n",
    "    \"snpEff\",\n",
    "    \"snpEff.jar\",\n",
    ")"
   ]
  },
  {
   "cell_type": "code",
   "execution_count": 7,
   "metadata": {},
   "outputs": [],
   "source": [
    "if !isfile(snpeff)\n",
    "    \n",
    "    throw(\"$snpeff is missing.\")\n",
    "    \n",
    "end"
   ]
  },
  {
   "cell_type": "code",
   "execution_count": 8,
   "metadata": {},
   "outputs": [],
   "source": [
    "using JSON: parse"
   ]
  },
  {
   "cell_type": "code",
   "execution_count": 9,
   "metadata": {},
   "outputs": [
    {
     "data": {
      "text/plain": [
       "Dict{String,Any} with 12 entries:\n",
       "  \"_soma_rna.2.fastq.gz\" => \"input/sample/soma_rna.2.1k.fastq.gz\"\n",
       "  \"n_job\"                => 10\n",
       "  \"germ_dna.2.fastq.gz\"  => \"/media/kwat/CarrotCake/garden/sample/738/WGC056190…\n",
       "  \"germ_dna.1.fastq.gz\"  => \"/media/kwat/CarrotCake/garden/sample/738/WGC056190…\n",
       "  \"_soma_rna.1.fastq.gz\" => \"input/sample/soma_rna.1.1k.fastq.gz\"\n",
       "  \"gb_memory\"            => 48\n",
       "  \"download\"             => Dict{String,Any}(\"input\"=>Any[\"https://s3-us-west-1…\n",
       "  \"_soma_dna.1.fastq.gz\" => \"input/sample/soma_dna.1.1k.fastq.gz\"\n",
       "  \"_germ_dna.1.fastq.gz\" => \"input/sample/germ_dna.1.1k.fastq.gz\"\n",
       "  \"_germ_dna.2.fastq.gz\" => \"input/sample/germ_dna.2.1k.fastq.gz\"\n",
       "  \"dna_is_targeted\"      => false\n",
       "  \"_soma_dna.2.fastq.gz\" => \"input/sample/soma_dna.2.1k.fastq.gz\""
      ]
     },
     "execution_count": 9,
     "metadata": {},
     "output_type": "execute_result"
    }
   ],
   "source": [
    "project_json = parse(read(joinpath(project_dir, \"project.json\"), String))"
   ]
  },
  {
   "cell_type": "code",
   "execution_count": 10,
   "metadata": {},
   "outputs": [
    {
     "data": {
      "text/plain": [
       "(\"/home/kwat/github/omics_sample/input/data_for_processing_sequence/GCA_000001405.15_GRCh38_no_alt_analysis_set.fna.gz\", \"/home/kwat/github/omics_sample/input/data_for_processing_sequence/chromosome.bed.gz\", \"/home/kwat/github/omics_sample/input/data_for_processing_sequence/chrn_n.tsv\", 10, 48, 2, \"/home/kwat/github/omics_sample/input/snpEff/snpEff.jar\")"
      ]
     },
     "execution_count": 10,
     "metadata": {},
     "output_type": "execute_result"
    }
   ],
   "source": [
    "process_dna_arguments = (\n",
    "    joinpath(data_for_processing_sequence_dir, \"GCA_000001405.15_GRCh38_no_alt_analysis_set.fna.gz\"),\n",
    "    joinpath(data_for_processing_sequence_dir, \"chromosome.bed.gz\"),\n",
    "    joinpath(data_for_processing_sequence_dir, \"chrn_n.tsv\"),\n",
    "    project_json[\"n_job\"],\n",
    "    project_json[\"gb_memory\"],\n",
    "    2,\n",
    "    snpeff,\n",
    ")"
   ]
  },
  {
   "cell_type": "code",
   "execution_count": null,
   "metadata": {},
   "outputs": [
    {
     "name": "stdout",
     "output_type": "stream",
     "text": [
      "(2020-08-27T21:29:16.03) Trimming sequence ...\n",
      "`\u001b[4mskewer\u001b[24m \u001b[4m--threads\u001b[24m \u001b[4m10\u001b[24m \u001b[4m-x\u001b[24m \u001b[4mAGATCGGAAGAGC\u001b[24m \u001b[4m--compress\u001b[24m \u001b[4m--output\u001b[24m \u001b[4m/home/kwat/github/omics_sample/output/process_germ_dna/trim_sequence/germ\u001b[24m \u001b[4m--quiet\u001b[24m \u001b[4m/media/kwat/CarrotCake/garden/sample/738/WGC056190D_combined_R1.fastq.gz\u001b[24m \u001b[4m/media/kwat/CarrotCake/garden/sample/738/WGC056190D_combined_R2.fastq.gz\u001b[24m`\n",
      ".--. .-.\n",
      ": .--': :.-.\n",
      "`. `. : `'.' .--. .-..-..-. .--. .--.\n",
      "_`, :: . `.' '_.': `; `; :' '_.': ..'\n",
      "`.__.':_;:_;`.__.'`.__.__.'`.__.':_;\n",
      "skewer v0.2.2 [April 4, 2016]\n",
      "Parameters used:\n",
      "-- 3' end adapter sequence (-x):\u001b[0;33m\tAGATCGGAAGAGC\n",
      "\u001b[0m-- maximum error ratio allowed (-r):\t0.100\n",
      "-- maximum indel error ratio allowed (-d):\t0.030\n",
      "-- minimum read length allowed after trimming (-l):\t18\n",
      "-- file format (-f):\t\tSolexa/Illumina 1.3+/Illumina 1.5+ FASTQ (auto detected)\n",
      "-- number of concurrent threads (-t):\t10\n",
      "Thu Aug 27 21:29:16 2020\u001b[0;32m >> started\u001b[0m\n",
      "\n",
      "Fri Aug 28 01:24:55 2020\u001b[0;32m >> done\u001b[0m (14139.837s)\n",
      "510566063 read pairs processed; of these:\n",
      "   121971 ( 0.02%) short read pairs filtered out after trimming by size control\n",
      "   110014 ( 0.02%) empty read pairs filtered out after trimming by size control\n",
      "510334078 (99.95%) read pairs available; of these:\n",
      " 12283665 ( 2.41%) trimmed read pairs available after processing\n",
      "498050413 (97.59%) untrimmed read pairs available after processing\n",
      "log has been saved to \"/home/kwat/github/omics_sample/output/process_germ_dna/trim_sequence/germ-trimmed.log\".\n",
      "(2020-08-28T01:24:55.961) Done in 3 hours, 55 minutes, 39 seconds, 931 milliseconds.\n",
      "(2020-08-28T01:24:56.095) Checking sequence ...\n",
      "`\u001b[4mfastqc\u001b[24m \u001b[4m--threads\u001b[24m \u001b[4m2\u001b[24m \u001b[4m--outdir\u001b[24m \u001b[4m/home/kwat/github/omics_sample/output/process_germ_dna/check_sequence\u001b[24m \u001b[4m/home/kwat/github/omics_sample/output/process_germ_dna/trim_sequence/germ-trimmed-pair1.fastq.gz\u001b[24m \u001b[4m/home/kwat/github/omics_sample/output/process_germ_dna/trim_sequence/germ-trimmed-pair2.fastq.gz\u001b[24m`\n"
     ]
    },
    {
     "name": "stderr",
     "output_type": "stream",
     "text": [
      "Started analysis of germ-trimmed-pair1.fastq.gz\n",
      "Started analysis of germ-trimmed-pair2.fastq.gz\n",
      "Approx 5% complete for germ-trimmed-pair1.fastq.gz\n",
      "Approx 5% complete for germ-trimmed-pair2.fastq.gz\n",
      "Approx 10% complete for germ-trimmed-pair1.fastq.gz\n",
      "Approx 10% complete for germ-trimmed-pair2.fastq.gz\n",
      "Approx 15% complete for germ-trimmed-pair1.fastq.gz\n",
      "Approx 15% complete for germ-trimmed-pair2.fastq.gz\n",
      "Approx 20% complete for germ-trimmed-pair1.fastq.gz\n",
      "Approx 20% complete for germ-trimmed-pair2.fastq.gz\n",
      "Approx 25% complete for germ-trimmed-pair1.fastq.gz\n",
      "Approx 25% complete for germ-trimmed-pair2.fastq.gz\n",
      "Approx 30% complete for germ-trimmed-pair1.fastq.gz\n",
      "Approx 30% complete for germ-trimmed-pair2.fastq.gz\n",
      "Approx 35% complete for germ-trimmed-pair1.fastq.gz\n",
      "Approx 35% complete for germ-trimmed-pair2.fastq.gz\n",
      "Approx 40% complete for germ-trimmed-pair1.fastq.gz\n",
      "Approx 40% complete for germ-trimmed-pair2.fastq.gz\n",
      "Approx 45% complete for germ-trimmed-pair1.fastq.gz\n",
      "Approx 45% complete for germ-trimmed-pair2.fastq.gz\n",
      "Approx 50% complete for germ-trimmed-pair1.fastq.gz\n",
      "Approx 50% complete for germ-trimmed-pair2.fastq.gz\n",
      "Approx 55% complete for germ-trimmed-pair1.fastq.gz\n",
      "Approx 55% complete for germ-trimmed-pair2.fastq.gz\n",
      "Approx 60% complete for germ-trimmed-pair1.fastq.gz\n",
      "Approx 60% complete for germ-trimmed-pair2.fastq.gz\n",
      "Approx 65% complete for germ-trimmed-pair1.fastq.gz\n",
      "Approx 65% complete for germ-trimmed-pair2.fastq.gz\n",
      "Approx 70% complete for germ-trimmed-pair1.fastq.gz\n",
      "Approx 70% complete for germ-trimmed-pair2.fastq.gz\n",
      "Approx 75% complete for germ-trimmed-pair1.fastq.gz\n",
      "Approx 75% complete for germ-trimmed-pair2.fastq.gz\n",
      "Approx 80% complete for germ-trimmed-pair1.fastq.gz\n",
      "Approx 80% complete for germ-trimmed-pair2.fastq.gz\n",
      "Approx 85% complete for germ-trimmed-pair1.fastq.gz\n",
      "Approx 85% complete for germ-trimmed-pair2.fastq.gz\n",
      "Approx 90% complete for germ-trimmed-pair1.fastq.gz\n",
      "Approx 90% complete for germ-trimmed-pair2.fastq.gz\n",
      "Approx 95% complete for germ-trimmed-pair1.fastq.gz\n",
      "Approx 95% complete for germ-trimmed-pair2.fastq.gz\n"
     ]
    },
    {
     "name": "stdout",
     "output_type": "stream",
     "text": [
      "Analysis complete for germ-trimmed-pair1.fastq.gz\n",
      "Analysis complete for germ-trimmed-pair2.fastq.gz\n",
      "(2020-08-28T02:17:49.712) Done in 52 minutes, 53 seconds, 617 milliseconds.\n",
      "(2020-08-28T02:17:49.712) Aligning sequence ...\n",
      "pipeline(pipeline(pipeline(pipeline(`\u001b[4mminimap2\u001b[24m \u001b[4m-x\u001b[24m \u001b[4msr\u001b[24m \u001b[4m-t\u001b[24m \u001b[4m10\u001b[24m \u001b[4m-K\u001b[24m \u001b[4m2G\u001b[24m \u001b[4m-R\u001b[24m \u001b[4m'@RG\\tID:Germ\\tSM:Germ'\u001b[24m \u001b[4m-a\u001b[24m \u001b[4m/home/kwat/github/omics_sample/input/data_for_processing_sequence/GCA_000001405.15_GRCh38_no_alt_analysis_set.fna.gz.mmi\u001b[24m \u001b[4m/home/kwat/github/omics_sample/output/process_germ_dna/trim_sequence/germ-trimmed-pair1.fastq.gz\u001b[24m \u001b[4m/home/kwat/github/omics_sample/output/process_germ_dna/trim_sequence/germ-trimmed-pair2.fastq.gz\u001b[24m`, stdout=`\u001b[4msamtools\u001b[24m \u001b[4msort\u001b[24m \u001b[4m--threads\u001b[24m \u001b[4m10\u001b[24m \u001b[4m-m\u001b[24m \u001b[4m2G\u001b[24m \u001b[4m-n\u001b[24m`), stdout=`\u001b[4msamtools\u001b[24m \u001b[4mfixmate\u001b[24m \u001b[4m--threads\u001b[24m \u001b[4m10\u001b[24m \u001b[4m-m\u001b[24m \u001b[4m-\u001b[24m \u001b[4m-\u001b[24m`), stdout=`\u001b[4msamtools\u001b[24m \u001b[4msort\u001b[24m \u001b[4m--threads\u001b[24m \u001b[4m10\u001b[24m \u001b[4m-m\u001b[24m \u001b[4m2G\u001b[24m`), stdout>Base.FileRedirect(\"/home/kwat/github/omics_sample/output/process_germ_dna/align_sequence/germ.bam.tmp\", false))\n"
     ]
    },
    {
     "name": "stderr",
     "output_type": "stream",
     "text": [
      "[WARNING]\u001b[1;31m Indexing parameters (-k, -w or -H) overridden by parameters used in the prebuilt index.\u001b[0m\n",
      "[M::main::4.762*1.00] loaded/built the index for 195 target sequence(s)\n",
      "[M::mm_mapopt_update::4.762*1.00] mid_occ = 1000\n",
      "[M::mm_idx_stat] kmer size: 15; skip: 10; is_hpc: 0; #seq: 195\n",
      "[M::mm_idx_stat::5.523*1.00] distinct minimizers: 100167746 (38.80% are singletons); average occurrences: 5.519; average spacing: 5.607\n",
      "[M::worker_pipeline::480.430*9.71] mapped 13411698 sequences\n",
      "[M::worker_pipeline::928.573*9.93] mapped 13408748 sequences\n",
      "[M::worker_pipeline::1406.247*10.01] mapped 13412340 sequences\n",
      "[M::worker_pipeline::1924.761*9.81] mapped 13408894 sequences\n",
      "[M::worker_pipeline::2276.135*9.87] mapped 13404534 sequences\n",
      "[M::worker_pipeline::2696.058*9.92] mapped 13405370 sequences\n",
      "[M::worker_pipeline::3110.181*9.96] mapped 13401518 sequences\n",
      "[M::worker_pipeline::3633.505*9.86] mapped 13398850 sequences\n",
      "[M::worker_pipeline::3989.673*9.89] mapped 13413664 sequences\n",
      "[M::worker_pipeline::4412.329*9.92] mapped 13415250 sequences\n",
      "[M::worker_pipeline::4835.830*9.94] mapped 13414560 sequences\n",
      "[M::worker_pipeline::5348.902*9.87] mapped 13414618 sequences\n",
      "[M::worker_pipeline::5723.418*9.89] mapped 13409056 sequences\n",
      "[M::worker_pipeline::6149.720*9.91] mapped 13405686 sequences\n",
      "[M::worker_pipeline::6577.842*9.93] mapped 13403552 sequences\n",
      "[M::worker_pipeline::7099.560*9.88] mapped 13402884 sequences\n",
      "[M::worker_pipeline::7470.913*9.90] mapped 13401048 sequences\n",
      "[M::worker_pipeline::7926.971*9.91] mapped 13413248 sequences\n",
      "[M::worker_pipeline::8337.691*9.93] mapped 13412120 sequences\n",
      "[M::worker_pipeline::8855.152*9.89] mapped 13410842 sequences\n",
      "[M::worker_pipeline::9212.161*9.90] mapped 13412024 sequences\n",
      "[M::worker_pipeline::9617.337*9.91] mapped 13407352 sequences\n",
      "[M::worker_pipeline::10036.743*9.92] mapped 13403186 sequences\n",
      "[M::worker_pipeline::10568.477*9.89] mapped 13399788 sequences\n",
      "[M::worker_pipeline::10923.497*9.90] mapped 13401680 sequences\n",
      "[M::worker_pipeline::11346.106*9.91] mapped 13398470 sequences\n",
      "[M::worker_pipeline::11761.322*9.92] mapped 13406142 sequences\n",
      "[M::worker_pipeline::12270.435*9.89] mapped 13416256 sequences\n",
      "[M::worker_pipeline::12630.636*9.90] mapped 13411040 sequences\n",
      "[M::worker_pipeline::13037.476*9.91] mapped 13414618 sequences\n",
      "[M::worker_pipeline::13446.714*9.92] mapped 13412152 sequences\n",
      "[M::worker_pipeline::13966.293*9.89] mapped 13408016 sequences\n",
      "[M::worker_pipeline::14336.000*9.90] mapped 13402266 sequences\n",
      "[M::worker_pipeline::14761.947*9.91] mapped 13402606 sequences\n",
      "[M::worker_pipeline::15183.220*9.92] mapped 13403042 sequences\n",
      "[M::worker_pipeline::15713.563*9.89] mapped 13399708 sequences\n",
      "[M::worker_pipeline::16079.590*9.90] mapped 13409946 sequences\n",
      "[M::worker_pipeline::16484.846*9.91] mapped 13414276 sequences\n",
      "[M::worker_pipeline::17164.191*9.92] mapped 13410408 sequences\n",
      "[M::worker_pipeline::17668.925*9.90] mapped 13414550 sequences\n",
      "[M::worker_pipeline::18062.344*9.90] mapped 13411932 sequences\n",
      "[M::worker_pipeline::18475.407*9.91] mapped 13409682 sequences\n",
      "[M::worker_pipeline::18901.893*9.92] mapped 13402692 sequences\n",
      "[M::worker_pipeline::19561.894*9.90] mapped 13402620 sequences\n",
      "[M::worker_pipeline::19918.154*9.91] mapped 13405370 sequences\n",
      "[M::worker_pipeline::20537.017*9.91] mapped 13400676 sequences\n",
      "[M::worker_pipeline::20973.331*9.92] mapped 13408592 sequences\n",
      "[M::worker_pipeline::21556.875*9.90] mapped 13409120 sequences\n",
      "[M::worker_pipeline::21915.587*9.91] mapped 13407568 sequences\n",
      "[M::worker_pipeline::22332.077*9.91] mapped 13411300 sequences\n",
      "[M::worker_pipeline::22800.576*9.91] mapped 13409740 sequences\n",
      "[M::worker_pipeline::23313.938*9.90] mapped 13406248 sequences\n",
      "[M::worker_pipeline::23724.984*9.90] mapped 13398582 sequences\n",
      "[M::worker_pipeline::24166.220*9.91] mapped 13401180 sequences\n",
      "[M::worker_pipeline::24593.953*9.91] mapped 13401726 sequences\n",
      "[M::worker_pipeline::25147.004*9.90] mapped 13400110 sequences\n",
      "[M::worker_pipeline::25518.057*9.90] mapped 13411148 sequences\n",
      "[M::worker_pipeline::25940.793*9.90] mapped 13411334 sequences\n",
      "[M::worker_pipeline::26352.435*9.91] mapped 13411250 sequences\n",
      "[M::worker_pipeline::27018.536*9.89] mapped 13412390 sequences\n",
      "[M::worker_pipeline::27383.525*9.90] mapped 13410886 sequences\n",
      "[M::worker_pipeline::27808.977*9.90] mapped 13407452 sequences\n",
      "[M::worker_pipeline::28412.106*9.89] mapped 13400648 sequences\n"
     ]
    }
   ],
   "source": [
    "if all((in(key, keys(project_json)) for key in (\n",
    "    \"germ_dna.1.fastq.gz\",\n",
    "    \"germ_dna.2.fastq.gz\",\n",
    ")))\n",
    "    \n",
    "    Kraft.process_germ_dna(\n",
    "        joinpath(project_dir, project_json[\"germ_dna.1.fastq.gz\"]),\n",
    "        joinpath(project_dir, project_json[\"germ_dna.2.fastq.gz\"]),\n",
    "        project_json[\"dna_is_targeted\"],\n",
    "        joinpath(output_dir, \"process_germ_dna\"),\n",
    "        process_dna_arguments...,\n",
    "    )\n",
    "    \n",
    "end"
   ]
  },
  {
   "cell_type": "code",
   "execution_count": null,
   "metadata": {},
   "outputs": [],
   "source": [
    "if all((in(key, keys(project_json)) for key in (\n",
    "    \"germ_dna.1.fastq.gz\",\n",
    "    \"germ_dna.2.fastq.gz\",\n",
    "    \"soma_dna.1.fastq.gz\",\n",
    "    \"soma_dna.2.fastq.gz\",\n",
    ")))\n",
    "    \n",
    "    Kraft.process_soma_dna(\n",
    "        joinpath(project_dir, project_json[\"germ_dna.1.fastq.gz\"]),\n",
    "        joinpath(project_dir, project_json[\"germ_dna.2.fastq.gz\"]),\n",
    "        joinpath(project_dir, project_json[\"soma_dna.1.fastq.gz\"]),\n",
    "        joinpath(project_dir, project_json[\"soma_dna.2.fastq.gz\"]),\n",
    "        project_json[\"dna_is_targeted\"],\n",
    "        joinpath(output_dir, \"process_soma_dna\"),\n",
    "        process_dna_arguments...,\n",
    "    )\n",
    "    \n",
    "end"
   ]
  },
  {
   "cell_type": "code",
   "execution_count": null,
   "metadata": {},
   "outputs": [],
   "source": [
    "if all((in(key, keys(project_json)) for key in (\n",
    "    \"soma_rna.1.fastq.gz\",\n",
    "    \"soma_rna.2.fastq.gz\",\n",
    ")))\n",
    "    \n",
    "    Kraft.process_soma_rna(\n",
    "        joinpath(project_dir, project_json[\"soma_rna.1.fastq.gz\"]),\n",
    "        joinpath(project_dir, project_json[\"soma_rna.2.fastq.gz\"]),\n",
    "        joinpath(output_dir, \"process_soma_rna\"),\n",
    "        joinpath(data_for_processing_sequence_dir, \"Homo_sapiens.GRCh38.cdna.all.fa.gz\"),\n",
    "        project_json[\"n_job\"],\n",
    "    )\n",
    "    \n",
    "end"
   ]
  }
 ],
 "metadata": {
  "@webio": {
   "lastCommId": null,
   "lastKernelId": null
  },
  "kernelspec": {
   "display_name": "Julia 1.5.0",
   "language": "julia",
   "name": "julia-1.5"
  },
  "language_info": {
   "file_extension": ".jl",
   "mimetype": "application/julia",
   "name": "julia",
   "version": "1.5.0"
  }
 },
 "nbformat": 4,
 "nbformat_minor": 4
}
