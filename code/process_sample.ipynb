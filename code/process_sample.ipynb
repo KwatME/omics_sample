{
 "cells": [
  {
   "cell_type": "code",
   "execution_count": 1,
   "metadata": {},
   "outputs": [
    {
     "name": "stdout",
     "output_type": "stream",
     "text": [
      "{'command': {'check_sequence': 'code/check_sequence.sh 8 output '\n",
      "                               'input/sample/*fastq*',\n",
      "             'process_sample': 'python code/process_sample.py'},\n",
      " 'download': {'input': ['data_for_sequencing_process.zip']},\n",
      " 'environment': ['pip install kraft',\n",
      "                 'conda install --prefix PROJECT_ENVIRONMENT_DIRECTORY_PATH '\n",
      "                 '--channel bioconda --yes htslib',\n",
      "                 'conda install --prefix PROJECT_ENVIRONMENT_DIRECTORY_PATH '\n",
      "                 '--channel bioconda --yes samtools'],\n",
      " 'gb_memory': 12,\n",
      " 'germ_dna.1': '../input/sample/germ_dna.1.fastq.gz',\n",
      " 'germ_dna.2': '../input/sample/germ_dna.2.fastq.gz',\n",
      " 'git_url': 'https://github.com/Guardiome/sample_template',\n",
      " 'keyword': [],\n",
      " 'n_job': 8,\n",
      " 'name': 'Example Sample',\n",
      " 'soma_dna.1': '../input/sample/soma_dna.1.fastq.gz',\n",
      " 'soma_dna.2': '../input/sample/soma_dna.2.fastq.gz',\n",
      " 'soma_rna.1': '../input/sample/soma_rna.1.fastq.gz',\n",
      " 'soma_rna.2': '../input/sample/soma_rna.2.fastq.gz',\n",
      " 'version': '0.0.1'}\n"
     ]
    }
   ],
   "source": [
    "from global_variables import *"
   ]
  },
  {
   "cell_type": "code",
   "execution_count": 2,
   "metadata": {},
   "outputs": [],
   "source": [
    "from kraft import make_variant_n_from_vcf_file_path, run_command"
   ]
  },
  {
   "cell_type": "code",
   "execution_count": 3,
   "metadata": {},
   "outputs": [
    {
     "name": "stdout",
     "output_type": "stream",
     "text": [
      "Processing germ DNA ...\n",
      "/home/kwat/github/sample_template/code/process_germ_dna.sh /media/kwat/CarrotCake/data/ 8 12 ../input/sample/germ_dna.1.fastq.gz ../input/sample/germ_dna.2.fastq.gz exome /home/kwat/github/sample_template/output/germ_dna\n"
     ]
    }
   ],
   "source": [
    "if \"germ_dna.1\" in PROJECT_JSON and \"germ_dna.2\" in PROJECT_JSON:\n",
    "\n",
    "    print(\"Processing germ DNA ...\")\n",
    "\n",
    "    run_command(\n",
    "        \"{}/process_germ_dna.sh {} {} {} {} {} exome {}\".format(\n",
    "            CODE_DIRECTORY_PATH,\n",
    "            DATA_DIRECTORY_PATH,\n",
    "            PROJECT_JSON[\"n_job\"],\n",
    "            PROJECT_JSON[\"gb_memory\"],\n",
    "            PROJECT_JSON[\"germ_dna.1\"],\n",
    "            PROJECT_JSON[\"germ_dna.2\"],\n",
    "            OUTPUT_GERM_DNA_DIRECTORY_PATH,\n",
    "        )\n",
    "    )"
   ]
  },
  {
   "cell_type": "code",
   "execution_count": 4,
   "metadata": {},
   "outputs": [
    {
     "name": "stdout",
     "output_type": "stream",
     "text": [
      "Processing soma DNA ...\n",
      "/home/kwat/github/sample_template/code/process_soma_dna.sh /media/kwat/CarrotCake/data/ 8 12 ../input/sample/germ_dna.1.fastq.gz ../input/sample/germ_dna.2.fastq.gz ../input/sample/soma_dna.1.fastq.gz ../input/sample/soma_dna.2.fastq.gz exome /home/kwat/github/sample_template/output/soma_dna\n"
     ]
    }
   ],
   "source": [
    "if \"soma_dna.1\" in PROJECT_JSON and \"soma_dna.2\" in PROJECT_JSON:\n",
    "\n",
    "    print(\"Processing soma DNA ...\")\n",
    "\n",
    "    run_command(\n",
    "        \"{}/process_soma_dna.sh {} {} {} {} {} {} {} exome {}\".format(\n",
    "            CODE_DIRECTORY_PATH,\n",
    "            DATA_DIRECTORY_PATH,\n",
    "            PROJECT_JSON[\"n_job\"],\n",
    "            PROJECT_JSON[\"gb_memory\"],\n",
    "            PROJECT_JSON[\"germ_dna.1\"],\n",
    "            PROJECT_JSON[\"germ_dna.2\"],\n",
    "            PROJECT_JSON[\"soma_dna.1\"],\n",
    "            PROJECT_JSON[\"soma_dna.2\"],\n",
    "            OUTPUT_SOMA_DNA_DIRECTORY_PATH,\n",
    "        )\n",
    "    )"
   ]
  },
  {
   "cell_type": "code",
   "execution_count": 5,
   "metadata": {},
   "outputs": [
    {
     "name": "stdout",
     "output_type": "stream",
     "text": [
      "Processing soma RNA ...\n",
      "/home/kwat/github/sample_template/code/process_soma_rna.sh /media/kwat/CarrotCake/data/ 8 12 ../input/sample/soma_rna.1.fastq.gz ../input/sample/soma_rna.2.fastq.gz /home/kwat/github/sample_template/output/soma_rna\n"
     ]
    }
   ],
   "source": [
    "if \"soma_rna.1\" in PROJECT_JSON and \"soma_rna.2\" in PROJECT_JSON:\n",
    "\n",
    "    print(\"Processing soma RNA ...\")\n",
    "\n",
    "    run_command(\n",
    "        \"{}/process_soma_rna.sh {} {} {} {} {} {}\".format(\n",
    "            CODE_DIRECTORY_PATH,\n",
    "            DATA_DIRECTORY_PATH,\n",
    "            PROJECT_JSON[\"n_job\"],\n",
    "            PROJECT_JSON[\"gb_memory\"],\n",
    "            PROJECT_JSON[\"soma_rna.1\"],\n",
    "            PROJECT_JSON[\"soma_rna.2\"],\n",
    "            OUTPUT_SOMA_RNA_DIRECTORY_PATH,\n",
    "        )\n",
    "    )"
   ]
  },
  {
   "cell_type": "code",
   "execution_count": 6,
   "metadata": {},
   "outputs": [],
   "source": [
    "from os import mkdir\n",
    "from os.path import isdir, join\n",
    "from shutil import rmtree"
   ]
  },
  {
   "cell_type": "code",
   "execution_count": 7,
   "metadata": {},
   "outputs": [],
   "source": [
    "if isdir(SUMMARY_DIRECTORY_PATH):\n",
    "\n",
    "    rmtree(SUMMARY_DIRECTORY_PATH)\n",
    "\n",
    "mkdir(SUMMARY_DIRECTORY_PATH)"
   ]
  },
  {
   "cell_type": "code",
   "execution_count": 8,
   "metadata": {},
   "outputs": [
    {
     "name": "stdout",
     "output_type": "stream",
     "text": [
      "Using only rows with 'PASS' ...\n",
      "Variant\n",
      "NTRK3 (intron_variant)                                              202\n",
      "HLA-DQB1 (upstream_gene_variant)                                    186\n",
      "HLA-DQB1 (intron_variant)                                           183\n",
      "BCR (intron_variant)                                                178\n",
      "NRG1 (intron_variant)                                               176\n",
      "FGFR2 (intron_variant)                                              168\n",
      "HLA-DQB1-AS1 (downstream_gene_variant)                              141\n",
      "HLA-DQB1 (non_coding_transcript_exon_variant)                       111\n",
      "HLA-C (upstream_gene_variant)                                       100\n",
      "HLA-DQA1 (intron_variant)                                            97\n",
      "HLA-B (upstream_gene_variant)                                        90\n",
      "HLA-DQA1 (downstream_gene_variant)                                   88\n",
      "PAX8 (intron_variant)                                                88\n",
      "HLA-C (non_coding_transcript_exon_variant)                           86\n",
      "HLA-B (non_coding_transcript_exon_variant)                           83\n",
      "HLA-C (downstream_gene_variant)                                      81\n",
      "PAX8-AS1 (intron_variant)                                            80\n",
      "MIR6891 (upstream_gene_variant)                                      78\n",
      "HLA-DPB1 (downstream_gene_variant)                                   75\n",
      "HCG4P5 (upstream_gene_variant)                                       70\n",
      "HLA-DQA1 (non_coding_transcript_exon_variant)                        70\n",
      "HLA-C (intron_variant)                                               70\n",
      "HLA-A (intron_variant)                                               70\n",
      "BCR (upstream_gene_variant)                                          67\n",
      "TMPRSS2 (intron_variant)                                             65\n",
      "HLA-DRB1 (intron_variant)                                            63\n",
      "HLA-DPB1 (intron_variant)                                            61\n",
      "ETV6 (intron_variant)                                                61\n",
      "ROS1 (intron_variant)                                                60\n",
      "HLA-A (non_coding_transcript_exon_variant)                           59\n",
      "                                                                   ... \n",
      "RP11-51L5.3 (upstream_gene_variant)                                   1\n",
      "HAS3 (downstream_gene_variant)                                        1\n",
      "RP11-12N13.1-LINC01326 (intergenic_region)                            1\n",
      "NF1P12-Y_RNA (intergenic_region)                                      1\n",
      "CASR (synonymous_variant)                                             1\n",
      "OR7D4-OR7D1P (intergenic_region)                                      1\n",
      "GACAT1 (downstream_gene_variant)                                      1\n",
      "CALR (3_prime_UTR_variant)                                            1\n",
      "RP3-416H24.1 (upstream_gene_variant)                                  1\n",
      "RNU6-702P (upstream_gene_variant)                                     1\n",
      "ROS1 (3_prime_UTR_variant)                                            1\n",
      "FHIT (upstream_gene_variant)                                          1\n",
      "POLR1D (intron_variant)                                               1\n",
      "CTD-2535L24.2 (intron_variant)                                        1\n",
      "JUN (synonymous_variant)                                              1\n",
      "RN7SL263P (upstream_gene_variant)                                     1\n",
      "PAX5 (missense_variant)                                               1\n",
      "NELL1 (intron_variant)                                                1\n",
      "ETV5 (intron_variant)                                                 1\n",
      "BCRP3 (splice_region_variant&non_coding_transcript_exon_variant)      1\n",
      "LINC01068-LINC01038 (intergenic_region)                               1\n",
      "AC067945.4 (splice_region_variant&intron_variant)                     1\n",
      "ING1 (synonymous_variant)                                             1\n",
      "FANCB (intron_variant)                                                1\n",
      "DHX35 (intron_variant)                                                1\n",
      "RP1-134O19.3 (upstream_gene_variant)                                  1\n",
      "RABEPKP1-DACH1 (intergenic_region)                                    1\n",
      "ZFP28 (downstream_gene_variant)                                       1\n",
      "NDUFB9P3-MTCO1P47 (intergenic_region)                                 1\n",
      "MT-TK (upstream_gene_variant)                                         1\n",
      "Name: N, Length: 4425, dtype: int64\n"
     ]
    }
   ],
   "source": [
    "if isdir(OUTPUT_GERM_DNA_DIRECTORY_PATH):\n",
    "\n",
    "    germ_variant_n = make_variant_n_from_vcf_file_path(\n",
    "        join(OUTPUT_GERM_DNA_DIRECTORY_PATH, \"snpeff\", \"variant.vcf.gz\")\n",
    "    )\n",
    "\n",
    "    germ_variant_n.to_csv(\n",
    "        join(SUMMARY_DIRECTORY_PATH, \"germ_dna.variant_n.tsv\"), sep=\"\\t\", header=True\n",
    "    )\n",
    "\n",
    "    print(germ_variant_n)"
   ]
  },
  {
   "cell_type": "code",
   "execution_count": 9,
   "metadata": {},
   "outputs": [
    {
     "ename": "NameError",
     "evalue": "name 'kraft' is not defined",
     "output_type": "error",
     "traceback": [
      "\u001b[0;31m---------------------------------------------------------------------------\u001b[0m",
      "\u001b[0;31mNameError\u001b[0m                                 Traceback (most recent call last)",
      "\u001b[0;32m<ipython-input-9-b5dab82dfd0e>\u001b[0m in \u001b[0;36m<module>\u001b[0;34m\u001b[0m\n\u001b[1;32m      1\u001b[0m \u001b[0;32mif\u001b[0m \u001b[0misdir\u001b[0m\u001b[0;34m(\u001b[0m\u001b[0mOUTPUT_SOMA_DNA_DIRECTORY_PATH\u001b[0m\u001b[0;34m)\u001b[0m\u001b[0;34m:\u001b[0m\u001b[0;34m\u001b[0m\u001b[0;34m\u001b[0m\u001b[0m\n\u001b[1;32m      2\u001b[0m \u001b[0;34m\u001b[0m\u001b[0m\n\u001b[0;32m----> 3\u001b[0;31m     soma_variant_n = kraft.make_variant_n_from_vcf_file_path(\n\u001b[0m\u001b[1;32m      4\u001b[0m         \u001b[0mjoin\u001b[0m\u001b[0;34m(\u001b[0m\u001b[0mOUTPUT_SOMA_DNA_DIRECTORY_PATH\u001b[0m\u001b[0;34m,\u001b[0m \u001b[0;34m\"snpeff\"\u001b[0m\u001b[0;34m,\u001b[0m \u001b[0;34m\"variant.vcf.gz\"\u001b[0m\u001b[0;34m)\u001b[0m\u001b[0;34m\u001b[0m\u001b[0;34m\u001b[0m\u001b[0m\n\u001b[1;32m      5\u001b[0m     )\n",
      "\u001b[0;31mNameError\u001b[0m: name 'kraft' is not defined"
     ]
    }
   ],
   "source": [
    "if isdir(OUTPUT_SOMA_DNA_DIRECTORY_PATH):\n",
    "\n",
    "    soma_variant_n = kraft.make_variant_n_from_vcf_file_path(\n",
    "        join(OUTPUT_SOMA_DNA_DIRECTORY_PATH, \"snpeff\", \"variant.vcf.gz\")\n",
    "    )\n",
    "\n",
    "    soma_variant_n.to_csv(\n",
    "        join(SUMMARY_DIRECTORY_PATH, \"soma_dna.variant_n.tsv\"), sep=\"\\t\", header=True\n",
    "    )\n",
    "\n",
    "    print(soma_variant_n)"
   ]
  },
  {
   "cell_type": "code",
   "execution_count": null,
   "metadata": {},
   "outputs": [],
   "source": [
    "from pandas import Series, read_csv"
   ]
  },
  {
   "cell_type": "code",
   "execution_count": null,
   "metadata": {},
   "outputs": [],
   "source": [
    "if isdir(OUTPUT_SOMA_RNA_DIRECTORY_PATH):\n",
    "\n",
    "    enst_tpm = read_csv(\n",
    "        join(\n",
    "            OUTPUT_SOMA_RNA_DIRECTORY_PATH, \"kallisto\", \"transcriptome\", \"abundance.tsv\"\n",
    "        ),\n",
    "        sep=\"\\t\",\n",
    "        index_col=0,\n",
    "    )[\"tpm\"].sort_values(ascending=False)\n",
    "\n",
    "    enst_tpm.index.name = \"ENST\"\n",
    "\n",
    "    enst_tpm.name = \"TPM\"\n",
    "\n",
    "    enst_tpm.to_csv(join(SUMMARY_DIRECTORY_PATH, \"enst_tpm.tsv\"), sep=\"\\t\", header=True)\n",
    "\n",
    "    print(enst_tpm)\n",
    "\n",
    "    enst_gene_name = read_csv(\n",
    "        join(DATA_DIRECTORY_PATH, \"grch\", \"enst_gene_name.tsv\"), sep=\"\\t\"\n",
    "    )\n",
    "\n",
    "    enst_gene_name = dict(\n",
    "        zip(enst_gene_name[\"Transcript stable ID version\"], enst_gene_name[\"Gene name\"])\n",
    "    )\n",
    "\n",
    "    gene_tpm = Series(\n",
    "        enst_tpm.values,\n",
    "        index=enst_tpm.index.map(lambda enst: enst_gene_name.get(enst, enst)),\n",
    "    )\n",
    "\n",
    "    size_before = gene_tpm.size\n",
    "\n",
    "    gene_tpm = gene_tpm.groupby(by=gene_tpm.index).median().sort_values(ascending=False)\n",
    "\n",
    "    print(\"Size: {} =(groupby)=> {}\".format(size_before, gene_tpm.size))\n",
    "\n",
    "    gene_tpm.index.name = \"Gene\"\n",
    "\n",
    "    gene_tpm.name = \"Median TPM\"\n",
    "\n",
    "    gene_tpm.to_csv(join(SUMMARY_DIRECTORY_PATH, \"gene_tpm.tsv\"), sep=\"\\t\", header=True)\n",
    "\n",
    "    print(gene_tpm)\n",
    "\n",
    "    virus_id_tpm = read_csv(\n",
    "        join(OUTPUT_SOMA_RNA_DIRECTORY_PATH, \"kallisto\", \"virus\", \"abundance.tsv\"),\n",
    "        sep=\"\\t\",\n",
    "        index_col=0,\n",
    "    )[\"tpm\"].sort_values(ascending=False)\n",
    "\n",
    "    virus_id_tpm.index.name = \"Virus ID\"\n",
    "\n",
    "    virus_id_tpm.name = \"TPM\"\n",
    "\n",
    "    virus_id_tpm.to_csv(\n",
    "        join(SUMMARY_DIRECTORY_PATH, \"virus_id_tpm.tsv\"), sep=\"\\t\", header=True\n",
    "    )\n",
    "\n",
    "    print(virus_id_tpm)\n",
    "\n",
    "    virus_id_name = read_csv(\n",
    "        join(DATA_DIRECTORY_PATH, \"virus\", \"sequences.csv\"), index_col=0\n",
    "    )[\"Species\"].to_dict()\n",
    "\n",
    "    virus_name_tpm = Series(\n",
    "        virus_id_tpm.values,\n",
    "        index=virus_id_tpm.index.map(\n",
    "            lambda virus_id: virus_id_name.get(virus_id, virus_id)\n",
    "        ),\n",
    "    )\n",
    "\n",
    "    size_before = virus_name_tpm.size\n",
    "\n",
    "    virus_name_tpm = (\n",
    "        virus_name_tpm.groupby(by=virus_name_tpm.index)\n",
    "        .max()\n",
    "        .sort_values(ascending=False)\n",
    "    )\n",
    "\n",
    "    print(\"Size: {} =(groupby)=> {}\".format(size_before, virus_name_tpm.size))\n",
    "\n",
    "    virus_name_tpm.index.name = \"Virus Name\"\n",
    "\n",
    "    virus_name_tpm.name = \"Max TPM\"\n",
    "\n",
    "    virus_name_tpm.to_csv(\n",
    "        join(SUMMARY_DIRECTORY_PATH, \"virus_name_tpm.tsv\"), sep=\"\\t\", header=True\n",
    "    )\n",
    "\n",
    "    print(virus_name_tpm)"
   ]
  }
 ],
 "metadata": {
  "@webio": {
   "lastCommId": null,
   "lastKernelId": null
  },
  "kernelspec": {
   "display_name": "Python 3",
   "language": "python",
   "name": "python3"
  },
  "language_info": {
   "codemirror_mode": {
    "name": "ipython",
    "version": 3
   },
   "file_extension": ".py",
   "mimetype": "text/x-python",
   "name": "python",
   "nbconvert_exporter": "python",
   "pygments_lexer": "ipython3",
   "version": "3.7.3"
  }
 },
 "nbformat": 4,
 "nbformat_minor": 2
}
