{
 "cells": [
  {
   "cell_type": "code",
   "execution_count": null,
   "metadata": {},
   "outputs": [],
   "source": [
    "import os"
   ]
  },
  {
   "cell_type": "code",
   "execution_count": null,
   "metadata": {},
   "outputs": [],
   "source": [
    "__file__ = \"/home/kwat/github/sample_template/code/process_sample.ipynb\""
   ]
  },
  {
   "cell_type": "code",
   "execution_count": null,
   "metadata": {},
   "outputs": [],
   "source": [
    "project_directory_path = os.path.dirname(os.path.dirname(os.path.abspath(__file__)))\n",
    "\n",
    "code_directory_path = os.path.join(project_directory_path, \"code\")\n",
    "\n",
    "input_directory_path = os.path.join(project_directory_path, \"input\")\n",
    "\n",
    "output_directory_path = os.path.join(project_directory_path, \"output\")"
   ]
  },
  {
   "cell_type": "code",
   "execution_count": null,
   "metadata": {},
   "outputs": [],
   "source": [
    "# reference_directory_path = os.path.join(input_directory_path, 'reference')\n",
    "reference_directory_path = \"/media/kwat/CarrotCake/data/\"\n",
    "\n",
    "sample_directory_path = os.path.join(input_directory_path, \"sample\")\n",
    "\n",
    "summary_directory_path = os.path.join(output_directory_path, \"summary\")"
   ]
  },
  {
   "cell_type": "code",
   "execution_count": null,
   "metadata": {},
   "outputs": [],
   "source": [
    "import kraft"
   ]
  },
  {
   "cell_type": "code",
   "execution_count": null,
   "metadata": {},
   "outputs": [],
   "source": [
    "project_json = kraft.read_json(os.path.join(project_directory_path, \"project.json\"))\n",
    "\n",
    "project_json"
   ]
  },
  {
   "cell_type": "code",
   "execution_count": null,
   "metadata": {},
   "outputs": [],
   "source": [
    "output_germ_dna_directory_path = os.path.join(output_directory_path, \"germ_dna\")\n",
    "\n",
    "output_soma_dna_directory_path = os.path.join(output_directory_path, \"soma_dna\")\n",
    "\n",
    "output_soma_rna_directory_path = os.path.join(output_directory_path, \"soma_rna\")"
   ]
  },
  {
   "cell_type": "code",
   "execution_count": null,
   "metadata": {},
   "outputs": [],
   "source": [
    "if \"germ_dna.1\" in project_json and \"germ_dna.2\" in project_json:\n",
    "\n",
    "    print(\"Processing germ DNA ...\")\n",
    "\n",
    "    kraft.run_command(\n",
    "        \"{}/process_germ_dna.sh {} {} {} {} {} exome {}\".format(\n",
    "            code_directory_path,\n",
    "            reference_directory_path,\n",
    "            project_json[\"n_job\"],\n",
    "            project_json[\"gb_memory\"],\n",
    "            project_json[\"germ_dna.1\"],\n",
    "            project_json[\"germ_dna.2\"],\n",
    "            output_germ_dna_directory_path,\n",
    "        )\n",
    "    )"
   ]
  },
  {
   "cell_type": "code",
   "execution_count": null,
   "metadata": {},
   "outputs": [],
   "source": [
    "if \"soma_dna.1\" in project_json and \"soma_dna.2\" in project_json:\n",
    "\n",
    "    print(\"Processing soma DNA ...\")\n",
    "\n",
    "    kraft.run_command(\n",
    "        \"{}/process_soma_dna.sh {} {} {} {} {} {} {} exome {}\".format(\n",
    "            code_directory_path,\n",
    "            reference_directory_path,\n",
    "            project_json[\"n_job\"],\n",
    "            project_json[\"gb_memory\"],\n",
    "            project_json[\"germ_dna.1\"],\n",
    "            project_json[\"germ_dna.2\"],\n",
    "            project_json[\"soma_dna.1\"],\n",
    "            project_json[\"soma_dna.2\"],\n",
    "            output_soma_dna_directory_path,\n",
    "        )\n",
    "    )"
   ]
  },
  {
   "cell_type": "code",
   "execution_count": null,
   "metadata": {},
   "outputs": [],
   "source": [
    "if \"soma_rna.1\" in project_json and \"soma_rna.2\" in project_json:\n",
    "\n",
    "    print(\"Processing soma RNA ...\")\n",
    "\n",
    "    kraft.run_command(\n",
    "        \"{}/process_soma_rna.sh {} {} {} {} {} {}\".format(\n",
    "            code_directory_path,\n",
    "            reference_directory_path,\n",
    "            project_json[\"n_job\"],\n",
    "            project_json[\"gb_memory\"],\n",
    "            project_json[\"soma_rna.1\"],\n",
    "            project_json[\"soma_rna.2\"],\n",
    "            output_soma_rna_directory_path,\n",
    "        )\n",
    "    )"
   ]
  },
  {
   "cell_type": "code",
   "execution_count": null,
   "metadata": {},
   "outputs": [],
   "source": [
    "import shutil"
   ]
  },
  {
   "cell_type": "code",
   "execution_count": null,
   "metadata": {},
   "outputs": [],
   "source": [
    "if os.path.isdir(summary_directory_path):\n",
    "\n",
    "    shutil.rmtree(summary_directory_path)\n",
    "\n",
    "os.mkdir(os.path.join(summary_directory_path))"
   ]
  },
  {
   "cell_type": "code",
   "execution_count": null,
   "metadata": {},
   "outputs": [],
   "source": [
    "if os.path.isdir(output_germ_dna_directory_path):\n",
    "\n",
    "    germ_variant_n = kraft.make_variant_n_from_vcf_file_path(\n",
    "        os.path.join(output_germ_dna_directory_path, \"snpeff\", \"variant.vcf.gz\")\n",
    "    )\n",
    "\n",
    "    germ_variant_n.to_csv(\n",
    "        os.path.join(summary_directory_path, \"germ_dna.variant_n.tsv\"),\n",
    "        sep=\"\\t\",\n",
    "        header=True,\n",
    "    )\n",
    "\n",
    "    print(germ_variant_n)"
   ]
  },
  {
   "cell_type": "code",
   "execution_count": null,
   "metadata": {},
   "outputs": [],
   "source": [
    "if os.path.isdir(output_soma_dna_directory_path):\n",
    "\n",
    "    soma_variant_n = kraft.make_variant_n_from_vcf_file_path(\n",
    "        os.path.join(output_soma_dna_directory_path, \"snpeff\", \"variant.vcf.gz\")\n",
    "    )\n",
    "\n",
    "    soma_variant_n.to_csv(\n",
    "        os.path.join(summary_directory_path, \"soma_dna.variant_n.tsv\"),\n",
    "        sep=\"\\t\",\n",
    "        header=True,\n",
    "    )\n",
    "\n",
    "    print(soma_variant_n)"
   ]
  },
  {
   "cell_type": "code",
   "execution_count": null,
   "metadata": {},
   "outputs": [],
   "source": [
    "import pandas as pd"
   ]
  },
  {
   "cell_type": "code",
   "execution_count": null,
   "metadata": {},
   "outputs": [],
   "source": [
    "if os.path.isdir(output_soma_rna_directory_path):\n",
    "\n",
    "    enst_tpm = pd.read_csv(\n",
    "        os.path.join(\n",
    "            output_soma_rna_directory_path, \"kallisto\", \"transcriptome\", \"abundance.tsv\"\n",
    "        ),\n",
    "        sep=\"\\t\",\n",
    "        index_col=0,\n",
    "    )[\"tpm\"].sort_values(ascending=False)\n",
    "\n",
    "    enst_tpm.index.name = \"ENST\"\n",
    "\n",
    "    enst_tpm.name = \"TPM\"\n",
    "\n",
    "    enst_tpm.to_csv(\n",
    "        os.path.join(summary_directory_path, \"enst_tpm.tsv\"), sep=\"\\t\", header=True\n",
    "    )\n",
    "\n",
    "    print(enst_tpm)\n",
    "\n",
    "    enst_gene_name = pd.read_csv(\n",
    "        os.path.join(reference_directory_path, \"grch\", \"enst_gene_name.tsv\"), sep=\"\\t\"\n",
    "    )\n",
    "\n",
    "    enst_gene_name = dict(\n",
    "        zip(enst_gene_name[\"Transcript stable ID version\"], enst_gene_name[\"Gene name\"])\n",
    "    )\n",
    "\n",
    "    gene_tpm = pd.Series(\n",
    "        enst_tpm.values,\n",
    "        index=enst_tpm.index.map(lambda enst: enst_gene_name.get(enst, enst)),\n",
    "    )\n",
    "\n",
    "    size_before = gene_tpm.size\n",
    "\n",
    "    gene_tpm = gene_tpm.groupby(by=gene_tpm.index).median().sort_values(ascending=False)\n",
    "\n",
    "    print(\"Size: {} =(groupby)=> {}\".format(size_before, gene_tpm.size))\n",
    "\n",
    "    gene_tpm.index.name = \"Gene\"\n",
    "\n",
    "    gene_tpm.name = \"Median TPM\"\n",
    "\n",
    "    gene_tpm.to_csv(\n",
    "        os.path.join(summary_directory_path, \"gene_tpm.tsv\"), sep=\"\\t\", header=True\n",
    "    )\n",
    "\n",
    "    print(gene_tpm)\n",
    "\n",
    "    virus_id_tpm = pd.read_csv(\n",
    "        os.path.join(\n",
    "            output_soma_rna_directory_path, \"kallisto\", \"virus\", \"abundance.tsv\"\n",
    "        ),\n",
    "        sep=\"\\t\",\n",
    "        index_col=0,\n",
    "    )[\"tpm\"].sort_values(ascending=False)\n",
    "\n",
    "    virus_id_tpm.index.name = \"Virus ID\"\n",
    "\n",
    "    virus_id_tpm.name = \"TPM\"\n",
    "\n",
    "    virus_id_tpm.to_csv(\n",
    "        os.path.join(summary_directory_path, \"virus_id_tpm.tsv\"), sep=\"\\t\", header=True\n",
    "    )\n",
    "\n",
    "    print(virus_id_tpm)\n",
    "\n",
    "    virus_id_name = pd.read_csv(\n",
    "        os.path.join(reference_directory_path, \"virus\", \"sequences.csv\"), index_col=0\n",
    "    )[\"Species\"].to_dict()\n",
    "\n",
    "    virus_name_tpm = pd.Series(\n",
    "        virus_id_tpm.values,\n",
    "        index=virus_id_tpm.index.map(\n",
    "            lambda virus_id: virus_id_name.get(virus_id, virus_id)\n",
    "        ),\n",
    "    )\n",
    "\n",
    "    size_before = virus_name_tpm.size\n",
    "\n",
    "    virus_name_tpm = (\n",
    "        virus_name_tpm.groupby(by=virus_name_tpm.index)\n",
    "        .max()\n",
    "        .sort_values(ascending=False)\n",
    "    )\n",
    "\n",
    "    print(\"Size: {} =(groupby)=> {}\".format(size_before, virus_name_tpm.size))\n",
    "\n",
    "    virus_name_tpm.index.name = \"Virus Name\"\n",
    "\n",
    "    virus_name_tpm.name = \"Max TPM\"\n",
    "\n",
    "    virus_name_tpm.to_csv(\n",
    "        os.path.join(summary_directory_path, \"virus_name_tpm.tsv\"),\n",
    "        sep=\"\\t\",\n",
    "        header=True,\n",
    "    )\n",
    "\n",
    "    print(virus_name_tpm)"
   ]
  }
 ],
 "metadata": {
  "@webio": {
   "lastCommId": null,
   "lastKernelId": null
  },
  "kernelspec": {
   "display_name": "Python 3",
   "language": "python",
   "name": "python3"
  },
  "language_info": {
   "codemirror_mode": {
    "name": "ipython",
    "version": 3
   },
   "file_extension": ".py",
   "mimetype": "text/x-python",
   "name": "python",
   "nbconvert_exporter": "python",
   "pygments_lexer": "ipython3",
   "version": "3.7.3"
  }
 },
 "nbformat": 4,
 "nbformat_minor": 2
}
